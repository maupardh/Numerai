{
 "cells": [
  {
   "cell_type": "code",
   "execution_count": 39,
   "metadata": {
    "collapsed": false
   },
   "outputs": [],
   "source": [
    "### summary: TOP SCORES: \n",
    "#52.5% with gaussian naive bayes\n",
    "#52.5% with k-nn with ~200 neighbors\n",
    "#52.5% with logistic regression and C~1e-2\n",
    "#52% with a 2 depth decision tree\n",
    "#always going for 1 -> 50.7%\n",
    "\n",
    "import pandas as pd\n",
    "import numpy as np\n",
    "import matplotlib\n",
    "import matplotlib.pyplot as plt\n",
    "import sklearn\n",
    "from sklearn import linear_model\n",
    "import matplotlib.pyplot as plt\n",
    "from mpl_toolkits.mplot3d import Axes3D\n",
    "from sklearn.cross_validation import cross_val_score\n",
    "from sklearn.metrics import roc_auc_score\n",
    "\n",
    "matplotlib.style.use('ggplot')\n",
    "%matplotlib inline\n",
    "\n",
    "score_to_compute = 'roc_auc'\n",
    "number_of_cv_folds = 5"
   ]
  },
  {
   "cell_type": "code",
   "execution_count": 40,
   "metadata": {
    "collapsed": false
   },
   "outputs": [
    {
     "name": "stdout",
     "output_type": "stream",
     "text": [
      "Size of datasets: total - 55038, train - 44031, test - 11007\n"
     ]
    }
   ],
   "source": [
    "import sklearn.cross_validation\n",
    "\n",
    "numerai_data = pd.read_csv(\"./Datasets/numerai_training_data.csv\")\n",
    "\n",
    "#separating train and test\n",
    "[validation_data, training_data] = sklearn.cross_validation.train_test_split(numerai_data, \n",
    "                                                                             test_size = 0.80, random_state = 13)\n",
    "training_data = training_data.drop('validation', axis=1)\n",
    "validation_data = validation_data.drop('validation', axis=1)\n",
    "\n",
    "print('Size of datasets: total - %s, train - %s, test - %s' %(\n",
    "        numerai_data.shape[0], training_data.shape[0], validation_data.shape[0]))"
   ]
  },
  {
   "cell_type": "code",
   "execution_count": 41,
   "metadata": {
    "collapsed": false
   },
   "outputs": [
    {
     "name": "stdout",
     "output_type": "stream",
     "text": [
      "Categorical feature transformed:\n",
      "          c1  c1_int\n",
      "26146   c1_1       1\n",
      "37399  c1_15      15\n",
      "19573  c1_18      18\n",
      "438     c1_5       5\n",
      "17523   c1_9       9\n",
      "\n",
      "\n",
      "\n",
      "Quant features are: f1,f2,f3,f4,f5,f6,f7,f8,f9,f10,f11,f12,f13,f14\n",
      "\n",
      "\n",
      "\n",
      "Binary features are: bin_c1_1,bin_c1_10,bin_c1_11,bin_c1_12,bin_c1_13,bin_c1_14,bin_c1_15,bin_c1_16,bin_c1_17,bin_c1_18,bin_c1_19,bin_c1_20,bin_c1_21,bin_c1_22,bin_c1_23,bin_c1_24,bin_c1_3,bin_c1_4,bin_c1_5,bin_c1_6,bin_c1_7,bin_c1_8,bin_c1_9\n"
     ]
    }
   ],
   "source": [
    "#preprocessing the categorical feature c1\n",
    "\n",
    "from sklearn import preprocessing\n",
    "\n",
    "try:\n",
    "    training_data[\"c1_int\"] = training_data[\"c1\"].apply(lambda x: int(x[3:]))\n",
    "except Exception:\n",
    "    le = preprocessing.LabelEncoder()\n",
    "    le.fit_transform(list(set(training_data[\"c1\"])))\n",
    "    training_data[\"c1_int\"] = le.transform(np.asarray(training_data[\"c1\"]))\n",
    "\n",
    "print \"Categorical feature transformed:\"\n",
    "print training_data[[\"c1\", \"c1_int\"]].head(5)\n",
    "\n",
    "binaries = pd.get_dummies(training_data['c1'], prefix='bin_', prefix_sep='', dummy_na=False, columns=['c1'], sparse=False)\n",
    "training_data = pd.concat([training_data, binaries], axis=1)\n",
    "\n",
    "#features:\n",
    "quant_features = ['f1','f2','f3','f4','f5','f6','f7','f8','f9','f10','f11','f12','f13','f14']\n",
    "binary_features = [c for c in training_data.columns if c.startswith('bin_')]\n",
    "print (\"\\n\\n\\nQuant features are: %s\" %','.join(quant_features))\n",
    "print (\"\\n\\n\\nBinary features are: %s\" %','.join(binary_features))"
   ]
  },
  {
   "cell_type": "code",
   "execution_count": 42,
   "metadata": {
    "collapsed": false
   },
   "outputs": [
    {
     "data": {
      "text/html": [
       "<div>\n",
       "<table border=\"1\" class=\"dataframe\">\n",
       "  <thead>\n",
       "    <tr style=\"text-align: right;\">\n",
       "      <th></th>\n",
       "      <th>c1</th>\n",
       "      <th>bin_c1_1</th>\n",
       "      <th>bin_c1_10</th>\n",
       "      <th>bin_c1_11</th>\n",
       "      <th>bin_c1_12</th>\n",
       "      <th>bin_c1_13</th>\n",
       "      <th>bin_c1_14</th>\n",
       "      <th>bin_c1_15</th>\n",
       "      <th>bin_c1_16</th>\n",
       "      <th>bin_c1_17</th>\n",
       "      <th>...</th>\n",
       "      <th>bin_c1_22</th>\n",
       "      <th>bin_c1_23</th>\n",
       "      <th>bin_c1_24</th>\n",
       "      <th>bin_c1_3</th>\n",
       "      <th>bin_c1_4</th>\n",
       "      <th>bin_c1_5</th>\n",
       "      <th>bin_c1_6</th>\n",
       "      <th>bin_c1_7</th>\n",
       "      <th>bin_c1_8</th>\n",
       "      <th>bin_c1_9</th>\n",
       "    </tr>\n",
       "  </thead>\n",
       "  <tbody>\n",
       "    <tr>\n",
       "      <th>26146</th>\n",
       "      <td>c1_1</td>\n",
       "      <td>1</td>\n",
       "      <td>0</td>\n",
       "      <td>0</td>\n",
       "      <td>0</td>\n",
       "      <td>0</td>\n",
       "      <td>0</td>\n",
       "      <td>0</td>\n",
       "      <td>0</td>\n",
       "      <td>0</td>\n",
       "      <td>...</td>\n",
       "      <td>0</td>\n",
       "      <td>0</td>\n",
       "      <td>0</td>\n",
       "      <td>0</td>\n",
       "      <td>0</td>\n",
       "      <td>0</td>\n",
       "      <td>0</td>\n",
       "      <td>0</td>\n",
       "      <td>0</td>\n",
       "      <td>0</td>\n",
       "    </tr>\n",
       "    <tr>\n",
       "      <th>37399</th>\n",
       "      <td>c1_15</td>\n",
       "      <td>0</td>\n",
       "      <td>0</td>\n",
       "      <td>0</td>\n",
       "      <td>0</td>\n",
       "      <td>0</td>\n",
       "      <td>0</td>\n",
       "      <td>1</td>\n",
       "      <td>0</td>\n",
       "      <td>0</td>\n",
       "      <td>...</td>\n",
       "      <td>0</td>\n",
       "      <td>0</td>\n",
       "      <td>0</td>\n",
       "      <td>0</td>\n",
       "      <td>0</td>\n",
       "      <td>0</td>\n",
       "      <td>0</td>\n",
       "      <td>0</td>\n",
       "      <td>0</td>\n",
       "      <td>0</td>\n",
       "    </tr>\n",
       "    <tr>\n",
       "      <th>19573</th>\n",
       "      <td>c1_18</td>\n",
       "      <td>0</td>\n",
       "      <td>0</td>\n",
       "      <td>0</td>\n",
       "      <td>0</td>\n",
       "      <td>0</td>\n",
       "      <td>0</td>\n",
       "      <td>0</td>\n",
       "      <td>0</td>\n",
       "      <td>0</td>\n",
       "      <td>...</td>\n",
       "      <td>0</td>\n",
       "      <td>0</td>\n",
       "      <td>0</td>\n",
       "      <td>0</td>\n",
       "      <td>0</td>\n",
       "      <td>0</td>\n",
       "      <td>0</td>\n",
       "      <td>0</td>\n",
       "      <td>0</td>\n",
       "      <td>0</td>\n",
       "    </tr>\n",
       "    <tr>\n",
       "      <th>438</th>\n",
       "      <td>c1_5</td>\n",
       "      <td>0</td>\n",
       "      <td>0</td>\n",
       "      <td>0</td>\n",
       "      <td>0</td>\n",
       "      <td>0</td>\n",
       "      <td>0</td>\n",
       "      <td>0</td>\n",
       "      <td>0</td>\n",
       "      <td>0</td>\n",
       "      <td>...</td>\n",
       "      <td>0</td>\n",
       "      <td>0</td>\n",
       "      <td>0</td>\n",
       "      <td>0</td>\n",
       "      <td>0</td>\n",
       "      <td>1</td>\n",
       "      <td>0</td>\n",
       "      <td>0</td>\n",
       "      <td>0</td>\n",
       "      <td>0</td>\n",
       "    </tr>\n",
       "    <tr>\n",
       "      <th>17523</th>\n",
       "      <td>c1_9</td>\n",
       "      <td>0</td>\n",
       "      <td>0</td>\n",
       "      <td>0</td>\n",
       "      <td>0</td>\n",
       "      <td>0</td>\n",
       "      <td>0</td>\n",
       "      <td>0</td>\n",
       "      <td>0</td>\n",
       "      <td>0</td>\n",
       "      <td>...</td>\n",
       "      <td>0</td>\n",
       "      <td>0</td>\n",
       "      <td>0</td>\n",
       "      <td>0</td>\n",
       "      <td>0</td>\n",
       "      <td>0</td>\n",
       "      <td>0</td>\n",
       "      <td>0</td>\n",
       "      <td>0</td>\n",
       "      <td>1</td>\n",
       "    </tr>\n",
       "  </tbody>\n",
       "</table>\n",
       "<p>5 rows × 24 columns</p>\n",
       "</div>"
      ],
      "text/plain": [
       "          c1  bin_c1_1  bin_c1_10  bin_c1_11  bin_c1_12  bin_c1_13  bin_c1_14  \\\n",
       "26146   c1_1         1          0          0          0          0          0   \n",
       "37399  c1_15         0          0          0          0          0          0   \n",
       "19573  c1_18         0          0          0          0          0          0   \n",
       "438     c1_5         0          0          0          0          0          0   \n",
       "17523   c1_9         0          0          0          0          0          0   \n",
       "\n",
       "       bin_c1_15  bin_c1_16  bin_c1_17    ...     bin_c1_22  bin_c1_23  \\\n",
       "26146          0          0          0    ...             0          0   \n",
       "37399          1          0          0    ...             0          0   \n",
       "19573          0          0          0    ...             0          0   \n",
       "438            0          0          0    ...             0          0   \n",
       "17523          0          0          0    ...             0          0   \n",
       "\n",
       "       bin_c1_24  bin_c1_3  bin_c1_4  bin_c1_5  bin_c1_6  bin_c1_7  bin_c1_8  \\\n",
       "26146          0         0         0         0         0         0         0   \n",
       "37399          0         0         0         0         0         0         0   \n",
       "19573          0         0         0         0         0         0         0   \n",
       "438            0         0         0         1         0         0         0   \n",
       "17523          0         0         0         0         0         0         0   \n",
       "\n",
       "       bin_c1_9  \n",
       "26146         0  \n",
       "37399         0  \n",
       "19573         0  \n",
       "438           0  \n",
       "17523         1  \n",
       "\n",
       "[5 rows x 24 columns]"
      ]
     },
     "execution_count": 42,
     "metadata": {},
     "output_type": "execute_result"
    }
   ],
   "source": [
    "training_data[['c1']+binary_features].head(5)"
   ]
  },
  {
   "cell_type": "code",
   "execution_count": 43,
   "metadata": {
    "collapsed": false,
    "scrolled": false
   },
   "outputs": [
    {
     "data": {
      "image/png": "[encoded data removed]",
      "text/plain": [
       "<matplotlib.figure.Figure at 0x11310ec10>"
      ]
     },
     "metadata": {},
     "output_type": "display_data"
    }
   ],
   "source": [
    "#PCA\n",
    "\n",
    "from sklearn import preprocessing\n",
    "from sklearn.preprocessing import scale\n",
    "from sklearn.decomposition import PCA\n",
    "import math\n",
    "\n",
    "variance_cutoff = 0.80\n",
    "\n",
    "#scaled_features:\n",
    "scaled_features = map(lambda f: 'scaled_'+f, quant_features)\n",
    "\n",
    "#centering and scaling\n",
    "for f in scaled_features:\n",
    "    training_data[f] = 0\n",
    "training_data[scaled_features] = training_data.loc[:,quant_features].apply(lambda x: (x-np.mean(x))/np.std(x), axis=1)\n",
    "\n",
    "#PCA\n",
    "pca_ = PCA()\n",
    "pca_.fit(training_data.loc[:,scaled_features])\n",
    "principal_components_features = map(lambda t: t[0]+str(t[1]), zip([\"PC_\"]*len(scaled_features), range(1,len(scaled_features)+1)))\n",
    "for f in principal_components_features:\n",
    "    training_data[f] = 0\n",
    "training_data.loc[:,principal_components_features] = pca_.transform(training_data[scaled_features])\n",
    "\n",
    "l_principal_components = np.argmax(np.cumsum(np.array(pca_.explained_variance_ratio_))>variance_cutoff)\n",
    "principal_components_features = principal_components_features[0:l_principal_components]\n",
    "\n",
    "plt.figure(figsize=(20,10))\n",
    "for i in range(0,l_principal_components):\n",
    "    ax = plt.subplot(math.ceil(math.sqrt(l_principal_components)), math.ceil(math.sqrt(l_principal_components)), i+1)\n",
    "    bins = np.linspace(np.min(training_data.loc[:,principal_components_features[i]]), np.max(training_data.loc[:,principal_components_features[i]]), 100)\n",
    "    ax.hist(training_data.ix[training_data.loc[:,'target']==0,principal_components_features[i]].tolist(), bins, alpha=0.5, label='0')\n",
    "    ax.hist(training_data.ix[training_data.loc[:,'target']==1,principal_components_features[i]].tolist(), bins, alpha=0.5, label='1')\n",
    "    ax.legend(loc='upper right')\n",
    "\n",
    "plt.show()"
   ]
  },
  {
   "cell_type": "code",
   "execution_count": 44,
   "metadata": {
    "collapsed": false,
    "scrolled": true
   },
   "outputs": [
    {
     "name": "stdout",
     "output_type": "stream",
     "text": [
      "in sample score: 0.522462051464, out of sample score: 0.526265649618\n"
     ]
    },
    {
     "name": "stderr",
     "output_type": "stream",
     "text": [
      "/Library/Frameworks/Python.framework/Versions/2.7/lib/python2.7/site-packages/sklearn/discriminant_analysis.py:431: DeprecationWarning: The parameter 'store_covariance' is deprecated as of version 0.17 and will be removed in 0.19. The parameter is no longer necessary because the value is set via the estimator initialisation or set_params method.\n",
      "  \"set_params method.\", DeprecationWarning)\n"
     ]
    },
    {
     "data": {
      "image/png": "[encoded data removed]",
      "text/plain": [
       "<matplotlib.figure.Figure at 0x10cca6450>"
      ]
     },
     "metadata": {},
     "output_type": "display_data"
    }
   ],
   "source": [
    "#LDA Projection on the vector of the 2 centroids + cv of LDA\n",
    "\n",
    "from sklearn.lda import LDA\n",
    "from sklearn.cross_validation import cross_val_score\n",
    "from sklearn.metrics import roc_auc_score\n",
    "\n",
    "LDA_features=quant_features\n",
    "\n",
    "clf = sklearn.lda.LDA()\n",
    "clf.fit(training_data[LDA_features], training_data['target'],store_covariance=True)\n",
    "IS_score = roc_auc_score(training_data['target'], clf.predict(training_data[LDA_features]))\n",
    "#clf.score(training_data[LDA_features], training_data['target'], scoring = score_to_compute)\n",
    "CV_score = np.mean(cross_val_score(clf, training_data[LDA_features], training_data['target'], \n",
    "                                   cv=number_of_cv_folds, scoring = score_to_compute))\n",
    "\n",
    "print \"in sample score: %s, out of sample score: %s\" %(IS_score,CV_score)\n",
    "\n",
    "training_data['lda_dir1'] = clf.transform(training_data[LDA_features])\n",
    "\n",
    "lda_components = ['lda_dir1']\n",
    "\n",
    "ax = plt.subplot(1,1,1)\n",
    "bins = np.linspace(np.min(training_data.loc[:,'lda_dir1']), np.max(training_data.loc[:,'lda_dir1']), 100)\n",
    "ax.hist(training_data.ix[training_data.loc[:,'target']==0,'lda_dir1'].tolist(), bins, alpha=0.5, label='0')\n",
    "ax.hist(training_data.ix[training_data.loc[:,'target']==1,'lda_dir1'].tolist(), bins, alpha=0.5, label='1')\n",
    "plt.show()\n",
    "\n"
   ]
  },
  {
   "cell_type": "code",
   "execution_count": 45,
   "metadata": {
    "collapsed": false,
    "scrolled": true
   },
   "outputs": [
    {
     "name": "stdout",
     "output_type": "stream",
     "text": [
      "decision features:\n",
      "\n",
      "['f1', 'f2', 'f3', 'f4', 'f5', 'f6', 'f7', 'f8', 'f9', 'f10', 'f11', 'f12', 'f13', 'f14', 'bin_c1_1', 'bin_c1_10', 'bin_c1_11', 'bin_c1_12', 'bin_c1_13', 'bin_c1_14', 'bin_c1_15', 'bin_c1_16', 'bin_c1_17', 'bin_c1_18', 'bin_c1_19', 'bin_c1_20', 'bin_c1_21', 'bin_c1_22', 'bin_c1_23', 'bin_c1_24', 'bin_c1_3', 'bin_c1_4', 'bin_c1_5', 'bin_c1_6', 'bin_c1_7', 'bin_c1_8', 'bin_c1_9']\n",
      "Grid Scores:\n",
      "    max_depth  mean_cv_score\n",
      "0           1       0.511370\n",
      "1           2       0.517047\n",
      "2           3       0.519390\n",
      "3           4       0.520700\n",
      "4           5       0.522622\n",
      "5           6       0.520417\n",
      "6           7       0.521936\n",
      "7           8       0.516636\n",
      "8           9       0.516071\n",
      "9          10       0.517009\n",
      "10         11       0.513955\n",
      "11         12       0.514639\n",
      "12         13       0.510660\n",
      "13         14       0.507823\n",
      "14         15       0.507057\n",
      "15         16       0.507000\n",
      "16         17       0.505857\n",
      "17         18       0.506235\n",
      "18         19       0.503155\n",
      "19         20       0.503157\n",
      "20         21       0.500182\n",
      "21         22       0.503247\n",
      "22         23       0.499007\n",
      "23         24       0.501396\n",
      "24         25       0.501712\n",
      "25         26       0.498670\n",
      "26         27       0.502168\n",
      "27         28       0.500402\n",
      "28         29       0.499366\n",
      "Best params:\n",
      "{'max_depth': 5}\n"
     ]
    }
   ],
   "source": [
    "#decision tree\n",
    "\n",
    "#classification score with a single regression tree\n",
    "\n",
    "from sklearn import tree\n",
    "from sklearn.cross_validation import cross_val_score\n",
    "from sklearn.grid_search import GridSearchCV\n",
    "\n",
    "decision_features = quant_features+binary_features#principal_components_features#+binary_features\n",
    "\n",
    "print 'decision features:\\n' \n",
    "print decision_features\n",
    "\n",
    "max_depths = range(1,30)\n",
    "\n",
    "tuned_parameters = {'max_depth': range(1, 30)}\n",
    "\n",
    "clf = GridSearchCV(tree.DecisionTreeClassifier(), tuned_parameters, cv=number_of_cv_folds,\n",
    "                   scoring=score_to_compute, n_jobs=-1)\n",
    "clf.fit(training_data[decision_features], training_data['target'])\n",
    "\n",
    "print \"Grid Scores:\"\n",
    "scores = pd.DataFrame([(t[0]['max_depth'], t[1]) for t in clf.grid_scores_], \n",
    "                   columns=['max_depth', 'mean_cv_score'])\n",
    "print scores\n",
    "\n",
    "print \"Best params:\"\n",
    "print clf.best_params_\n",
    "\n",
    "decision_tree_classifier = clf.best_estimator_\n",
    "\n"
   ]
  },
  {
   "cell_type": "code",
   "execution_count": 59,
   "metadata": {
    "collapsed": false,
    "scrolled": false
   },
   "outputs": [
    {
     "name": "stdout",
     "output_type": "stream",
     "text": [
      "Grid Scores:\n",
      "   n_estimators max_depth  mean_cv_score\n",
      "0            20      None       0.514822\n",
      "Best params:\n",
      "{'n_estimators': 20, 'max_depth': None}\n"
     ]
    }
   ],
   "source": [
    "# Ensemble of trees: Random Forests\n",
    "from sklearn.ensemble import RandomForestClassifier\n",
    "\n",
    "decision_features = quant_features+binary_features\n",
    "\n",
    "n_trees = range(20,300, 20)\n",
    "depths = [None]+range(1, 30)\n",
    "\n",
    "tuned_parameters = {'max_depth': depths, 'n_estimators':n_trees}\n",
    "\n",
    "clf = GridSearchCV(sklearn.ensemble.RandomForestClassifier(), tuned_parameters, cv=number_of_cv_folds,\n",
    "                   scoring=score_to_compute, n_jobs=-1)\n",
    "clf.fit(training_data[decision_features], training_data['target'])\n",
    "\n",
    "print \"Grid Scores:\"\n",
    "scores = pd.DataFrame([(t[0]['n_estimators'], t[0]['max_depth'], t[1]) for t in clf.grid_scores_], \n",
    "                   columns=['n_estimators', 'max_depth', 'mean_cv_score'])\n",
    "print scores\n",
    "\n",
    "print \"Best params:\"\n",
    "print clf.best_params_\n",
    "\n",
    "forest_classifier = clf.best_estimator_\n",
    "\n",
    "\n",
    "#forest_classifier = sklearn.ensemble.RandomForestClassifier(n_estimators = 400, max_depth = 14)"
   ]
  },
  {
   "cell_type": "code",
   "execution_count": 16,
   "metadata": {
    "collapsed": false
   },
   "outputs": [],
   "source": [
    "from sklearn.ensemble import AdaBoostClassifier\n",
    "from sklearn.ensemble import RandomForestClassifier\n",
    "forest_classifier = sklearn.ensemble.RandomForestClassifier(n_estimators = 400, max_depth = 14)"
   ]
  },
  {
   "cell_type": "code",
   "execution_count": 35,
   "metadata": {
    "collapsed": false,
    "scrolled": true
   },
   "outputs": [
    {
     "name": "stdout",
     "output_type": "stream",
     "text": [
      "Grid Scores:\n",
      "    n_estimators  max_depth  mean_cv_score\n",
      "0             20          1       0.525068\n",
      "1             20         11       0.507429\n",
      "2             20         21       0.510324\n",
      "3             23          1       0.524116\n",
      "4             23         11       0.502252\n",
      "5             23         21       0.504578\n",
      "6             26          1       0.523930\n",
      "7             26         11       0.507760\n",
      "8             26         21       0.510525\n",
      "9             29          1       0.523460\n",
      "10            29         11       0.499295\n",
      "11            29         21       0.508628\n",
      "Best params:\n",
      "n_estimators     20.000000\n",
      "max_depth         1.000000\n",
      "mean_cv_score     0.525068\n",
      "Name: 0, dtype: float64\n",
      "Best Score:\n",
      "0.525068429758\n"
     ]
    }
   ],
   "source": [
    "# Ensemble of trees: Adaboost\n",
    "from sklearn import tree\n",
    "from sklearn.ensemble import AdaBoostClassifier\n",
    "\n",
    "decision_features = quant_features+binary_features\n",
    "\n",
    "n_trees = range(20,300, 20)\n",
    "depths = [None]+range(1, 30)\n",
    "scores = []\n",
    "\n",
    "def get_cv_score(n_trees, depth):\n",
    "    clf = sklearn.ensemble.AdaBoostClassifier(tree.DecisionTreeClassifier(max_depth=depth), n_estimators = n_trees)\n",
    "    cur_score= np.mean(cross_val_score(clf, training_data[decision_features], training_data[\"target\"], \n",
    "                                   cv=number_of_cv_folds, scoring = score_to_compute))\n",
    "    return (n_trees, depth, cur_score)\n",
    "    \n",
    "for i in range(len(n_trees)):\n",
    "    scores += map(lambda d: get_cv_score(n_trees[i], d), depths)\n",
    "\n",
    "print \"Grid Scores:\"\n",
    "scores = pd.DataFrame(scores, columns=['n_estimators', 'max_depth', 'mean_cv_score'])\n",
    "print scores\n",
    "\n",
    "print \"Best params:\"\n",
    "best_index = np.argmax(scores['mean_cv_score'])\n",
    "best_params = scores.iloc[best_index]\n",
    "print best_params\n",
    "\n",
    "\n",
    "print \"Best Score:\"\n",
    "print scores.iloc[best_index]['mean_cv_score']\n",
    "\n",
    "adaboost_classifier = sklearn.ensemble.AdaBoostClassifier(\n",
    "    tree.DecisionTreeClassifier(max_depth=best_params['max_depth']), n_estimators = best_params['n_estimators'])\n",
    "\n",
    "\n",
    "#adaboost_classifier = sklearn.ensemble.RandomForestClassifier(n_estimators = 400, max_depth = 14)"
   ]
  },
  {
   "cell_type": "code",
   "execution_count": 54,
   "metadata": {
    "collapsed": false
   },
   "outputs": [
    {
     "name": "stdout",
     "output_type": "stream",
     "text": [
      "in sample score: 0.522689695526, out of sample score: 0.529375089256\n"
     ]
    }
   ],
   "source": [
    "# Naive Bayes Gaussian\n",
    "\n",
    "from sklearn.naive_bayes import GaussianNB\n",
    "from sklearn.cross_validation import cross_val_score\n",
    "\n",
    "nb_gaussian_features = quant_features+binary_features#principal_components_features\n",
    "\n",
    "nb_gaussian_classifier = GaussianNB()\n",
    "nb_gaussian_classifier.fit(training_data[nb_gaussian_features], training_data[\"target\"])\n",
    "s = roc_auc_score(training_data['target'], nb_gaussian_classifier.predict(training_data[nb_gaussian_features]))\n",
    "#nb_gaussian_classifier.score(training_data[nb_gaussian_features], training_data[\"target\"])\n",
    "m = np.mean(cross_val_score(nb_gaussian_classifier, training_data[nb_gaussian_features], training_data[\"target\"],\n",
    "                            cv=number_of_cv_folds, scoring = score_to_compute))\n",
    "print \"in sample score: %s, out of sample score: %s\" %(s,m)\n",
    "\n",
    "#TO DO: feature selection\n",
    "\n",
    "# naive bayes gaussian classifier\n",
    "nb_gaussian_classifier = GaussianNB()"
   ]
  },
  {
   "cell_type": "code",
   "execution_count": 19,
   "metadata": {
    "collapsed": false,
    "scrolled": true
   },
   "outputs": [
    {
     "name": "stdout",
     "output_type": "stream",
     "text": [
      "          C        IS        OS\n",
      "0  0.000010  0.521777  0.527532\n",
      "0  0.000018  0.521823  0.527766\n",
      "0  0.000032  0.521567  0.527943\n",
      "0  0.000056  0.521445  0.528084\n",
      "0  0.000100  0.521798  0.528191\n",
      "0  0.000178  0.522815  0.528304\n",
      "0  0.000316  0.524012  0.528505\n",
      "0  0.000562  0.524487  0.528808\n",
      "0  0.001000  0.525132  0.529139\n",
      "0  0.001778  0.525407  0.529411\n",
      "0  0.003162  0.525814  0.529552\n",
      "0  0.005623  0.525623  0.529549\n",
      "0  0.010000  0.525127  0.529479\n",
      "0  0.017783  0.525911  0.529372\n",
      "0  0.031623  0.525585  0.529276\n",
      "0  0.056234  0.526253  0.529235\n",
      "0  0.100000  0.526573  0.529220\n",
      "0  0.177828  0.526805  0.529224\n",
      "0  0.316228  0.526648  0.529220\n",
      "0  0.562341  0.526698  0.529217\n",
      "0  1.000000  0.526676  0.529215\n",
      "0  1.778279  0.526677  0.529215\n",
      "0  3.162278  0.526722  0.529213\n",
      "0  5.623413  0.526700  0.529212\n"
     ]
    },
    {
     "data": {
      "image/png": "[encoded data removed]",
      "text/plain": [
       "<matplotlib.figure.Figure at 0x111b26650>"
      ]
     },
     "metadata": {},
     "output_type": "display_data"
    }
   ],
   "source": [
    "#Logistic regression\n",
    "#TO DO: with and without regularization\n",
    "\n",
    "import math\n",
    "\n",
    "params = np.exp(np.arange(-5.0, 1.0,.25)*math.log(10))\n",
    "log_reg_features = principal_components_features+binary_features\n",
    "\n",
    "def apply_param(p):\n",
    "    lreg_model = sklearn.linear_model.LogisticRegression(C=p)\n",
    "    lreg_model.fit(training_data[log_reg_features], training_data[\"target\"])\n",
    "    IS = roc_auc_score(training_data['target'], lreg_model.predict(training_data[log_reg_features]))\n",
    "    #lreg_model.score(training_data[log_reg_features], training_data[\"target\"], scoring = score_to_compute)\n",
    "    OS = np.mean(cross_val_score(lreg_model, training_data[log_reg_features], training_data[\"target\"],\n",
    "                                 cv=10, scoring = score_to_compute))\n",
    "    return pd.DataFrame([np.array([p, IS, OS])], columns=['C', 'IS', 'OS']) \n",
    "\n",
    "scores = pd.concat(map(apply_param, params))\n",
    "scores.plot(x='C',logx=True)\n",
    "print scores\n",
    "\n",
    "#log reg classifier\n",
    "best_p = 0.01\n",
    "lreg_classifier = sklearn.linear_model.LogisticRegression(C=best_p)\n"
   ]
  },
  {
   "cell_type": "code",
   "execution_count": 12,
   "metadata": {
    "collapsed": false,
    "scrolled": true
   },
   "outputs": [
    {
     "name": "stdout",
     "output_type": "stream",
     "text": [
      "['lda_dir1']\n",
      "             training_score  validation_score\n",
      "n_neighbors                                  \n",
      "11                        0          0.505852\n",
      "18                        0          0.501526\n",
      "32                        0          0.504948\n",
      "57                        0          0.504956\n",
      "101                       0          0.508824\n",
      "178                       0          0.514099\n",
      "317                       0          0.519308\n",
      "563                       0          0.521381\n",
      "1001                      0          0.526966\n",
      "1779                      0          0.528892\n",
      "3163                      0          0.530087\n",
      "5624                      0          0.532198\n"
     ]
    },
    {
     "data": {
      "image/png": "[encoded data removed]",
      "text/plain": [
       "<matplotlib.figure.Figure at 0x10d9b3c50>"
      ]
     },
     "metadata": {},
     "output_type": "display_data"
    }
   ],
   "source": [
    "#k-nn\n",
    "from sklearn.neighbors import KNeighborsClassifier\n",
    "import math\n",
    "\n",
    "n_neighbors = map(lambda x:int(math.ceil(x)), np.exp(np.arange(1.0, 4.0,.25)*math.log(10)).tolist())\n",
    "k_nn_features = lda_components\n",
    "print k_nn_features\n",
    "\n",
    "def cv_score(par):\n",
    "    clf = KNeighborsClassifier(n_neighbors=par)\n",
    "    clf.fit(training_data[k_nn_features], training_data[\"target\"])\n",
    "    s = roc_auc_score(training_data['target'], clf.predict(training_data[k_nn_features]))\n",
    "    #clf.score(training_data[k_nn_features], training_data[\"target\"], scoring = score_to_compute)\n",
    "    m = np.mean(cross_val_score(clf, training_data[k_nn_features], training_data[\"target\"], \n",
    "                                cv=5, scoring = score_to_compute))\n",
    "    dat = np.array([par, s, m])\n",
    "    return pd.DataFrame([dat],columns=['n_neighbors','training_score', 'validation_score'])\n",
    "\n",
    "k_nn_scores = pd.concat(map(cv_score, n_neighbors))\n",
    "k_nn_scores.index = k_nn_scores['n_neighbors']\n",
    "k_nn_scores.drop('n_neighbors',axis=1, inplace=True)\n",
    "\n",
    "print k_nn_scores\n",
    "k_nn_scores.plot(legend=True, grid=True)\n",
    "\n",
    "\n",
    "#k-nn classifier\n",
    "best_nn = 3000\n",
    "k_nn_classifier = KNeighborsClassifier(best_nn)\n",
    "\n"
   ]
  },
  {
   "cell_type": "code",
   "execution_count": 17,
   "metadata": {
    "collapsed": false
   },
   "outputs": [],
   "source": [
    "#TO DO: \n",
    "#try QDA in case covariance changes | y\n",
    "#try votes of k-nn on each principal component + the LDA axis - first try to figure out if that actually makes sense - does it have a chance to work?\n"
   ]
  },
  {
   "cell_type": "code",
   "execution_count": 17,
   "metadata": {
    "collapsed": false
   },
   "outputs": [
    {
     "name": "stdout",
     "output_type": "stream",
     "text": [
      "roc_auc: 0.5329 (+/- 0.0066) [Naive Bayes Gaussian]\n",
      "roc_auc: 0.5333 (+/- 0.0054) [K-nn + LDA]\n",
      "roc_auc: 0.5265 (+/- 0.0084) [logistic regression]\n",
      "roc_auc: 0.5327 (+/- 0.0046) [Forest]\n",
      "roc_auc: 0.5350 (+/- 0.0065) [Ensemble]\n"
     ]
    }
   ],
   "source": [
    "#TO DO:\n",
    "#ensemble model of:\n",
    "# - naive bayes gaussian on original data -> global classif, \n",
    "# - 3000-nn on LDA space -> local classif\n",
    "# - random forest -> local classif\n",
    "# logistic regression with all features + c1 binarized or just the LDA components with c1 binarized -> global classif\n",
    "\n",
    "from sklearn.ensemble import VotingClassifier\n",
    "from sklearn import cross_validation\n",
    "\n",
    "ensemble_classifiers = [nb_gaussian_classifier, k_nn_classifier, lreg_classifier, forest_classifier]\n",
    "\n",
    "# Training classifiers\n",
    "ensemble_classifier = VotingClassifier(estimators=[('nbg', nb_gaussian_classifier), ('knn', k_nn_classifier), \n",
    "                                                   ('lreg', lreg_classifier), ('forest', forest_classifier)],\n",
    "                        voting='soft')\n",
    "\n",
    "ensemble_classifier = ensemble_classifier.fit(training_data[quant_features+lda_components+principal_components_features+binary_features],training_data['target'])\n",
    "\n",
    "for clf, label in zip([nb_gaussian_classifier, k_nn_classifier, lreg_classifier, forest_classifier, ensemble_classifier], [\n",
    "        'Naive Bayes Gaussian', 'K-nn + LDA', 'logistic regression', 'Forest', 'Ensemble']):\n",
    "    scores = cross_validation.cross_val_score(clf, training_data[\n",
    "            quant_features+lda_components+principal_components_features+binary_features],training_data['target'], \n",
    "                                              cv=5, scoring = score_to_compute)\n",
    "    print(score_to_compute+\": %0.4f (+/- %0.4f) [%s]\" % (scores.mean(), scores.std(), label))\n",
    "\n",
    "#predict probas, scale to [0;1] and combine them: majority vote (average of the majority), or average of probas\n",
    "\n",
    "#Out of sample:\n",
    "# 1. project new observations to the LDA space\n",
    "# 2. estimate the probabilities from the three classifiers\n",
    "# 3. combine them\n",
    "# 4. make predictions\n",
    "\n"
   ]
  },
  {
   "cell_type": "code",
   "execution_count": 24,
   "metadata": {
    "collapsed": false
   },
   "outputs": [
    {
     "name": "stdout",
     "output_type": "stream",
     "text": [
      "[[ 1.          0.61538028  0.6181035   0.67209509]\n",
      " [ 0.61538028  1.          0.54967293  0.66537291]\n",
      " [ 0.6181035   0.54967293  1.          0.58046436]\n",
      " [ 0.67209509  0.66537291  0.58046436  1.        ]]\n"
     ]
    }
   ],
   "source": [
    "# correlation between classifiers:\n",
    "import numpy as np\n",
    "\n",
    "classifiers = [nb_gaussian_classifier, k_nn_classifier, lreg_classifier, forest_classifier]\n",
    "\n",
    "for clf in classifiers:\n",
    "    clf.fit(training_data[quant_features+lda_components+principal_components_features+binary_features], training_data[\"target\"])\n",
    "\n",
    "probas = np.zeros(shape=[training_data.shape[0],len(classifiers)])\n",
    "predictions = np.zeros(shape=[training_data.shape[0],len(classifiers)])\n",
    "for i in range(len(classifiers)):\n",
    "    #probas[:,i] = classifiers[i].predict_proba(\n",
    "    #    training_data[quant_features+lda_components+principal_components_features+binary_features])[:,1]\n",
    "    predictions[:,i] = classifiers[i].predict(\n",
    "        training_data[quant_features+lda_components+principal_components_features+binary_features])\n",
    "\n",
    "\n",
    "print np.corrcoef(np.transpose(predictions))\n",
    "#Strong correlation between classifiers = BAD -> probably why the ensemble model isn't better. \n",
    "#Essentially the ensemble fails to reduce bias\n"
   ]
  },
  {
   "cell_type": "code",
   "execution_count": null,
   "metadata": {
    "collapsed": true
   },
   "outputs": [],
   "source": []
  }
 ],
 "metadata": {
  "kernelspec": {
   "display_name": "Python 2",
   "language": "python",
   "name": "python2"
  },
  "language_info": {
   "codemirror_mode": {
    "name": "ipython",
    "version": 2
   },
   "file_extension": ".py",
   "mimetype": "text/x-python",
   "name": "python",
   "nbconvert_exporter": "python",
   "pygments_lexer": "ipython2",
   "version": "2.7.11"
  }
 },
 "nbformat": 4,
 "nbformat_minor": 0
}
