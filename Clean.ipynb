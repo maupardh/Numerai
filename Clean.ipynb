{
 "cells": [
  {
   "cell_type": "code",
   "execution_count": 1,
   "metadata": {
    "collapsed": false
   },
   "outputs": [],
   "source": [
    "### summary: TOP SCORES: \n",
    "#52.5% with gaussian naive bayes\n",
    "#52.5% with k-nn with ~200 neighbors\n",
    "#52.5% with logistic regression and C~1e-2\n",
    "#52% with a 2 depth decision tree\n",
    "#always going for 1 -> 51%\n",
    "\n",
    "import pandas as pd\n",
    "import numpy as np\n",
    "import matplotlib\n",
    "import matplotlib.pyplot as plt\n",
    "import sklearn\n",
    "from sklearn import linear_model\n",
    "matplotlib.style.use('ggplot')\n",
    "%matplotlib inline\n"
   ]
  },
  {
   "cell_type": "code",
   "execution_count": 2,
   "metadata": {
    "collapsed": false,
    "scrolled": true
   },
   "outputs": [
    {
     "name": "stdout",
     "output_type": "stream",
     "text": [
      "          f1         f2         f3         f4         f5         f6  \\\n",
      "0  134182390   97300587  135824563   90767607   87687197   65148427   \n",
      "1   76630357  132348601   78121737  102794263  120848626  128752983   \n",
      "2  111610401  132186734   83887688  120772423  133722193  100560251   \n",
      "3   72896251  113365043   72912608  126007508  127949612   74975809   \n",
      "4  113253706   96665624   89391907   77862818   91855586  100094204   \n",
      "\n",
      "          f7         f8         f9        f10        f11        f12  \\\n",
      "0  109834029  131613166  135533479   92106582   98111205   87052852   \n",
      "1   71827456   95945691   98115812  135285479  137364637  130062214   \n",
      "2   69916843  100459177   80742177  134884316  129775817  131335813   \n",
      "3   87833921   68438705   76021871  116126096  118784024  112328751   \n",
      "4  116150057  114434231   98567673   86510339   81789481   87618174   \n",
      "\n",
      "         f13        f14     c1  validation  target  \n",
      "0   66216076  121781929  c1_23           0       1  \n",
      "1  114819524   76635306   c1_3           1       1  \n",
      "2   89200467   77712207  c1_20           0       0  \n",
      "3   83538128   92643596   c1_3           0       1  \n",
      "4   95158324  124902005   c1_5           0       0  \n",
      "\n",
      "\n",
      "\n",
      "Size of datasets: total - 55038, train - 44030, test - 11008, intersect: 0\n"
     ]
    }
   ],
   "source": [
    "numerai_data = pd.read_csv(\"./numerai_training_data.csv\")\n",
    "print numerai_data.head(5)\n",
    "\n",
    "#separating train and test\n",
    "frac_for_training = 0.80\n",
    "training_data = numerai_data.sample(frac=frac_for_training)\n",
    "validation_data = numerai_data.drop(training_data.index)\n",
    "check = pd.merge(training_data, validation_data, how='inner')\n",
    "\n",
    "training_data.drop('validation', axis=1, inplace=True)\n",
    "validation_data.drop('validation', axis=1, inplace=True)\n",
    "\n",
    "print('\\n\\n\\nSize of datasets: total - %s, train - %s, test - %s, intersect: %s' %(\n",
    "        numerai_data.shape[0], training_data.shape[0], validation_data.shape[0], check.shape[0]))"
   ]
  },
  {
   "cell_type": "code",
   "execution_count": 3,
   "metadata": {
    "collapsed": false
   },
   "outputs": [
    {
     "name": "stdout",
     "output_type": "stream",
     "text": [
      "Categorical feature transformed:\n",
      "          c1  c1_int\n",
      "27372  c1_16      16\n",
      "27075  c1_20      20\n",
      "10274  c1_11      11\n",
      "49591  c1_14      14\n",
      "11377   c1_9       9\n",
      "\n",
      "\n",
      "\n",
      "Quant features are: f1,f2,f3,f4,f5,f6,f7,f8,f9,f10,f11,f12,f13,f14\n",
      "\n",
      "\n",
      "\n",
      "Binary features are: bin_c1_1,bin_c1_10,bin_c1_11,bin_c1_12,bin_c1_13,bin_c1_14,bin_c1_15,bin_c1_16,bin_c1_17,bin_c1_18,bin_c1_19,bin_c1_20,bin_c1_21,bin_c1_22,bin_c1_23,bin_c1_24,bin_c1_3,bin_c1_4,bin_c1_5,bin_c1_6,bin_c1_7,bin_c1_8,bin_c1_9\n"
     ]
    }
   ],
   "source": [
    "#preprocessing the categorical feature c1\n",
    "\n",
    "from sklearn import preprocessing\n",
    "\n",
    "try:\n",
    "    training_data[\"c1_int\"] = training_data[\"c1\"].apply(lambda x: int(x[3:]))\n",
    "except Exception:\n",
    "    le = preprocessing.LabelEncoder()\n",
    "    le.fit_transform(list(set(training_data[\"c1\"])))\n",
    "    training_data[\"c1_int\"] = le.transform(np.asarray(training_data[\"c1\"]))\n",
    "\n",
    "print \"Categorical feature transformed:\"\n",
    "print training_data[[\"c1\", \"c1_int\"]].head(5)\n",
    "\n",
    "binaries = pd.get_dummies(training_data['c1'], prefix='bin_', prefix_sep='', dummy_na=False, columns=['c1'], sparse=False)\n",
    "training_data = pd.concat([training_data, binaries], axis=1)\n",
    "\n",
    "#features:\n",
    "quant_features = ['f1','f2','f3','f4','f5','f6','f7','f8','f9','f10','f11','f12','f13','f14']\n",
    "binary_features = [c for c in training_data.columns if c.startswith('bin_')]\n",
    "print (\"\\n\\n\\nQuant features are: %s\" %','.join(quant_features))\n",
    "print (\"\\n\\n\\nBinary features are: %s\" %','.join(binary_features))"
   ]
  },
  {
   "cell_type": "code",
   "execution_count": 4,
   "metadata": {
    "collapsed": false
   },
   "outputs": [
    {
     "data": {
      "text/html": [
       "<div>\n",
       "<table border=\"1\" class=\"dataframe\">\n",
       "  <thead>\n",
       "    <tr style=\"text-align: right;\">\n",
       "      <th></th>\n",
       "      <th>c1</th>\n",
       "      <th>bin_c1_1</th>\n",
       "      <th>bin_c1_10</th>\n",
       "      <th>bin_c1_11</th>\n",
       "      <th>bin_c1_12</th>\n",
       "      <th>bin_c1_13</th>\n",
       "      <th>bin_c1_14</th>\n",
       "      <th>bin_c1_15</th>\n",
       "      <th>bin_c1_16</th>\n",
       "      <th>bin_c1_17</th>\n",
       "      <th>...</th>\n",
       "      <th>bin_c1_22</th>\n",
       "      <th>bin_c1_23</th>\n",
       "      <th>bin_c1_24</th>\n",
       "      <th>bin_c1_3</th>\n",
       "      <th>bin_c1_4</th>\n",
       "      <th>bin_c1_5</th>\n",
       "      <th>bin_c1_6</th>\n",
       "      <th>bin_c1_7</th>\n",
       "      <th>bin_c1_8</th>\n",
       "      <th>bin_c1_9</th>\n",
       "    </tr>\n",
       "  </thead>\n",
       "  <tbody>\n",
       "    <tr>\n",
       "      <th>27372</th>\n",
       "      <td>c1_16</td>\n",
       "      <td>0</td>\n",
       "      <td>0</td>\n",
       "      <td>0</td>\n",
       "      <td>0</td>\n",
       "      <td>0</td>\n",
       "      <td>0</td>\n",
       "      <td>0</td>\n",
       "      <td>1</td>\n",
       "      <td>0</td>\n",
       "      <td>...</td>\n",
       "      <td>0</td>\n",
       "      <td>0</td>\n",
       "      <td>0</td>\n",
       "      <td>0</td>\n",
       "      <td>0</td>\n",
       "      <td>0</td>\n",
       "      <td>0</td>\n",
       "      <td>0</td>\n",
       "      <td>0</td>\n",
       "      <td>0</td>\n",
       "    </tr>\n",
       "    <tr>\n",
       "      <th>27075</th>\n",
       "      <td>c1_20</td>\n",
       "      <td>0</td>\n",
       "      <td>0</td>\n",
       "      <td>0</td>\n",
       "      <td>0</td>\n",
       "      <td>0</td>\n",
       "      <td>0</td>\n",
       "      <td>0</td>\n",
       "      <td>0</td>\n",
       "      <td>0</td>\n",
       "      <td>...</td>\n",
       "      <td>0</td>\n",
       "      <td>0</td>\n",
       "      <td>0</td>\n",
       "      <td>0</td>\n",
       "      <td>0</td>\n",
       "      <td>0</td>\n",
       "      <td>0</td>\n",
       "      <td>0</td>\n",
       "      <td>0</td>\n",
       "      <td>0</td>\n",
       "    </tr>\n",
       "    <tr>\n",
       "      <th>10274</th>\n",
       "      <td>c1_11</td>\n",
       "      <td>0</td>\n",
       "      <td>0</td>\n",
       "      <td>1</td>\n",
       "      <td>0</td>\n",
       "      <td>0</td>\n",
       "      <td>0</td>\n",
       "      <td>0</td>\n",
       "      <td>0</td>\n",
       "      <td>0</td>\n",
       "      <td>...</td>\n",
       "      <td>0</td>\n",
       "      <td>0</td>\n",
       "      <td>0</td>\n",
       "      <td>0</td>\n",
       "      <td>0</td>\n",
       "      <td>0</td>\n",
       "      <td>0</td>\n",
       "      <td>0</td>\n",
       "      <td>0</td>\n",
       "      <td>0</td>\n",
       "    </tr>\n",
       "    <tr>\n",
       "      <th>49591</th>\n",
       "      <td>c1_14</td>\n",
       "      <td>0</td>\n",
       "      <td>0</td>\n",
       "      <td>0</td>\n",
       "      <td>0</td>\n",
       "      <td>0</td>\n",
       "      <td>1</td>\n",
       "      <td>0</td>\n",
       "      <td>0</td>\n",
       "      <td>0</td>\n",
       "      <td>...</td>\n",
       "      <td>0</td>\n",
       "      <td>0</td>\n",
       "      <td>0</td>\n",
       "      <td>0</td>\n",
       "      <td>0</td>\n",
       "      <td>0</td>\n",
       "      <td>0</td>\n",
       "      <td>0</td>\n",
       "      <td>0</td>\n",
       "      <td>0</td>\n",
       "    </tr>\n",
       "    <tr>\n",
       "      <th>11377</th>\n",
       "      <td>c1_9</td>\n",
       "      <td>0</td>\n",
       "      <td>0</td>\n",
       "      <td>0</td>\n",
       "      <td>0</td>\n",
       "      <td>0</td>\n",
       "      <td>0</td>\n",
       "      <td>0</td>\n",
       "      <td>0</td>\n",
       "      <td>0</td>\n",
       "      <td>...</td>\n",
       "      <td>0</td>\n",
       "      <td>0</td>\n",
       "      <td>0</td>\n",
       "      <td>0</td>\n",
       "      <td>0</td>\n",
       "      <td>0</td>\n",
       "      <td>0</td>\n",
       "      <td>0</td>\n",
       "      <td>0</td>\n",
       "      <td>1</td>\n",
       "    </tr>\n",
       "  </tbody>\n",
       "</table>\n",
       "<p>5 rows × 24 columns</p>\n",
       "</div>"
      ],
      "text/plain": [
       "          c1  bin_c1_1  bin_c1_10  bin_c1_11  bin_c1_12  bin_c1_13  bin_c1_14  \\\n",
       "27372  c1_16         0          0          0          0          0          0   \n",
       "27075  c1_20         0          0          0          0          0          0   \n",
       "10274  c1_11         0          0          1          0          0          0   \n",
       "49591  c1_14         0          0          0          0          0          1   \n",
       "11377   c1_9         0          0          0          0          0          0   \n",
       "\n",
       "       bin_c1_15  bin_c1_16  bin_c1_17    ...     bin_c1_22  bin_c1_23  \\\n",
       "27372          0          1          0    ...             0          0   \n",
       "27075          0          0          0    ...             0          0   \n",
       "10274          0          0          0    ...             0          0   \n",
       "49591          0          0          0    ...             0          0   \n",
       "11377          0          0          0    ...             0          0   \n",
       "\n",
       "       bin_c1_24  bin_c1_3  bin_c1_4  bin_c1_5  bin_c1_6  bin_c1_7  bin_c1_8  \\\n",
       "27372          0         0         0         0         0         0         0   \n",
       "27075          0         0         0         0         0         0         0   \n",
       "10274          0         0         0         0         0         0         0   \n",
       "49591          0         0         0         0         0         0         0   \n",
       "11377          0         0         0         0         0         0         0   \n",
       "\n",
       "       bin_c1_9  \n",
       "27372         0  \n",
       "27075         0  \n",
       "10274         0  \n",
       "49591         0  \n",
       "11377         1  \n",
       "\n",
       "[5 rows x 24 columns]"
      ]
     },
     "execution_count": 4,
     "metadata": {},
     "output_type": "execute_result"
    }
   ],
   "source": [
    "training_data[['c1']+binary_features].head(5)"
   ]
  },
  {
   "cell_type": "code",
   "execution_count": 5,
   "metadata": {
    "collapsed": false,
    "scrolled": false
   },
   "outputs": [
    {
     "data": {
      "image/png": "[encoded data removed]",
      "text/plain": [
       "<matplotlib.figure.Figure at 0x114734b90>"
      ]
     },
     "metadata": {},
     "output_type": "display_data"
    }
   ],
   "source": [
    "#PCA\n",
    "\n",
    "from sklearn import preprocessing\n",
    "from sklearn.preprocessing import scale\n",
    "from sklearn.decomposition import PCA\n",
    "import math\n",
    "\n",
    "variance_cutoff = 0.90\n",
    "\n",
    "#scaled_features:\n",
    "scaled_features = map(lambda f: 'scaled_'+f, quant_features)\n",
    "\n",
    "#centering and scaling\n",
    "for f in scaled_features:\n",
    "    training_data[f] = 0\n",
    "training_data[scaled_features] = training_data.loc[:,quant_features].apply(lambda x: (x-np.mean(x))/np.std(x), axis=1)\n",
    "\n",
    "#PCA\n",
    "pca_ = PCA()\n",
    "pca_.fit(training_data.loc[:,scaled_features])\n",
    "principal_components_features = map(lambda t: t[0]+str(t[1]), zip([\"PC_\"]*len(scaled_features), range(1,len(scaled_features)+1)))\n",
    "for f in principal_components_features:\n",
    "    training_data[f] = 0\n",
    "training_data.loc[:,principal_components_features] = pca_.transform(training_data[scaled_features])\n",
    "\n",
    "l_principal_components = np.argmax(np.cumsum(np.array(pca_.explained_variance_ratio_))>variance_cutoff)\n",
    "principal_components_features = principal_components_features[0:l_principal_components]\n",
    "\n",
    "plt.figure(figsize=(20,10))\n",
    "for i in range(0,l_principal_components):\n",
    "    ax = plt.subplot(math.ceil(math.sqrt(l_principal_components)), math.ceil(math.sqrt(l_principal_components)), i+1)\n",
    "    bins = np.linspace(np.min(training_data.loc[:,principal_components_features[i]]), np.max(training_data.loc[:,principal_components_features[i]]), 100)\n",
    "    ax.hist(training_data.ix[training_data.loc[:,'target']==0,principal_components_features[i]].tolist(), bins, alpha=0.5, label='0')\n",
    "    ax.hist(training_data.ix[training_data.loc[:,'target']==1,principal_components_features[i]].tolist(), bins, alpha=0.5, label='1')\n",
    "    ax.legend(loc='upper right')\n",
    "\n",
    "plt.show()"
   ]
  },
  {
   "cell_type": "code",
   "execution_count": 6,
   "metadata": {
    "collapsed": false,
    "scrolled": true
   },
   "outputs": [
    {
     "name": "stderr",
     "output_type": "stream",
     "text": [
      "/Library/Frameworks/Python.framework/Versions/2.7/lib/python2.7/site-packages/sklearn/lda.py:4: DeprecationWarning: lda.LDA has been moved to discriminant_analysis.LinearDiscriminantAnalysis in 0.17 and will be removed in 0.19\n",
      "  \"in 0.17 and will be removed in 0.19\", DeprecationWarning)\n",
      "/Library/Frameworks/Python.framework/Versions/2.7/lib/python2.7/site-packages/sklearn/discriminant_analysis.py:431: DeprecationWarning: The parameter 'store_covariance' is deprecated as of version 0.17 and will be removed in 0.19. The parameter is no longer necessary because the value is set via the estimator initialisation or set_params method.\n",
      "  \"set_params method.\", DeprecationWarning)\n"
     ]
    },
    {
     "name": "stdout",
     "output_type": "stream",
     "text": [
      "in sample score: 0.5240063593, out of sample score: 0.521053832292\n"
     ]
    },
    {
     "data": {
      "image/png": "[encoded data removed]",
      "text/plain": [
       "<matplotlib.figure.Figure at 0x1082e9e90>"
      ]
     },
     "metadata": {},
     "output_type": "display_data"
    }
   ],
   "source": [
    "#LDA Projection on the vector of the 2 centroids + cv of LDA\n",
    "\n",
    "from sklearn.lda import LDA\n",
    "from sklearn.cross_validation import cross_val_score\n",
    "\n",
    "LDA_features=quant_features\n",
    "\n",
    "clf = sklearn.lda.LDA()\n",
    "clf.fit(training_data[LDA_features], training_data['target'],store_covariance=True)\n",
    "IS_score = clf.score(training_data[LDA_features], training_data['target'])\n",
    "CV_score = np.mean(cross_val_score(clf, training_data[LDA_features], training_data['target'], cv=10))\n",
    "\n",
    "print \"in sample score: %s, out of sample score: %s\" %(IS_score,CV_score)\n",
    "\n",
    "training_data['lda_dir1'] = clf.transform(training_data[LDA_features])\n",
    "\n",
    "lda_components = ['lda_dir1']\n",
    "\n",
    "ax = plt.subplot(1,1,1)\n",
    "bins = np.linspace(np.min(training_data.loc[:,'lda_dir1']), np.max(training_data.loc[:,'lda_dir1']), 100)\n",
    "ax.hist(training_data.ix[training_data.loc[:,'target']==0,'lda_dir1'].tolist(), bins, alpha=0.5, label='0')\n",
    "ax.hist(training_data.ix[training_data.loc[:,'target']==1,'lda_dir1'].tolist(), bins, alpha=0.5, label='1')\n",
    "plt.show()\n",
    "\n"
   ]
  },
  {
   "cell_type": "code",
   "execution_count": 7,
   "metadata": {
    "collapsed": false,
    "scrolled": true
   },
   "outputs": [
    {
     "name": "stdout",
     "output_type": "stream",
     "text": [
      "decision features:\n",
      "\n",
      "['f1', 'f2', 'f3', 'f4', 'f5', 'f6', 'f7', 'f8', 'f9', 'f10', 'f11', 'f12', 'f13', 'f14', 'bin_c1_1', 'bin_c1_10', 'bin_c1_11', 'bin_c1_12', 'bin_c1_13', 'bin_c1_14', 'bin_c1_15', 'bin_c1_16', 'bin_c1_17', 'bin_c1_18', 'bin_c1_19', 'bin_c1_20', 'bin_c1_21', 'bin_c1_22', 'bin_c1_23', 'bin_c1_24', 'bin_c1_3', 'bin_c1_4', 'bin_c1_5', 'bin_c1_6', 'bin_c1_7', 'bin_c1_8', 'bin_c1_9']\n",
      "       training_score  validation_score\n",
      "depth                                  \n",
      "1            0.519214          0.514558\n",
      "2            0.523620          0.517307\n",
      "3            0.528117          0.517466\n",
      "4            0.528594          0.517352\n",
      "5            0.532160          0.519146\n",
      "6            0.538201          0.516512\n",
      "7            0.545742          0.518283\n",
      "8            0.554599          0.517693\n",
      "9            0.562844          0.518238\n",
      "10           0.577515          0.516716\n",
      "11           0.592846          0.514967\n",
      "12           0.612764          0.512174\n",
      "13           0.631320          0.513718\n",
      "14           0.653441          0.511356\n",
      "15           0.677379          0.512628\n",
      "16           0.700136          0.512265\n",
      "17           0.722189          0.512151\n",
      "18           0.746695          0.508949\n",
      "19           0.769226          0.511129\n",
      "20           0.789394          0.509244\n",
      "21           0.809562          0.508427\n",
      "22           0.830661          0.507586\n",
      "23           0.849307          0.508358\n",
      "24           0.866000          0.506428\n",
      "25           0.882762          0.506905\n",
      "26           0.897706          0.508267\n",
      "27           0.910947          0.506882\n",
      "28           0.922825          0.509289\n",
      "29           0.934658          0.508199\n"
     ]
    },
    {
     "data": {
      "image/png": "[encoded data removed]",
      "text/plain": [
       "<matplotlib.figure.Figure at 0x111842b90>"
      ]
     },
     "metadata": {},
     "output_type": "display_data"
    }
   ],
   "source": [
    "#decision tree\n",
    "\n",
    "#classification score with a single regression tree\n",
    "\n",
    "from sklearn import tree\n",
    "from sklearn.cross_validation import cross_val_score\n",
    "\n",
    "decision_features = quant_features+binary_features#principal_components_features#+binary_features\n",
    "\n",
    "print 'decision features:\\n' \n",
    "print decision_features\n",
    "\n",
    "max_depths = range(1,30)\n",
    "def cv_score(depth, printTree=False):\n",
    "    clf = tree.DecisionTreeClassifier(max_depth=depth)\n",
    "    clf.fit(training_data[decision_features], training_data[\"target\"])\n",
    "    s = clf.score(training_data[decision_features], training_data[\"target\"])\n",
    "    m = np.mean(cross_val_score(clf, training_data[decision_features], training_data[\"target\"], cv=5))\n",
    "    dat = np.array([depth, s, m])\n",
    "    if printTree:\n",
    "        with open('./ClassificationTrees/singleClassifTreeWithDepth'+str(depth)+'.dot', 'w') as my_file:\n",
    "            my_file = tree.export_graphviz(clf, out_file = my_file)\n",
    "    return pd.DataFrame([dat],columns=['depth','training_score', 'validation_score'])\n",
    "\n",
    "single_classif_tree_scores = pd.concat(map(lambda d: cv_score(d, True), max_depths))\n",
    "single_classif_tree_scores.index = single_classif_tree_scores['depth']\n",
    "single_classif_tree_scores.drop('depth',axis=1, inplace=True)\n",
    "\n",
    "single_classif_tree_scores.plot(legend=True, grid=True)\n",
    "print single_classif_tree_scores\n",
    "\n",
    "#decision tree classifier:\n",
    "best_depth = 3\n",
    "decision_tree_classifier = tree.DecisionTreeClassifier(max_depth=best_depth)\n",
    "\n"
   ]
  },
  {
   "cell_type": "code",
   "execution_count": 8,
   "metadata": {
    "collapsed": false
   },
   "outputs": [
    {
     "name": "stdout",
     "output_type": "stream",
     "text": [
      "in sample score: 0.523234158528, out of sample score: 0.521894199395\n"
     ]
    }
   ],
   "source": [
    "# Naive Bayes Gaussian\n",
    "\n",
    "from sklearn.naive_bayes import GaussianNB\n",
    "from sklearn.cross_validation import cross_val_score\n",
    "\n",
    "nb_gaussian_features = quant_features+binary_features#principal_components_features\n",
    "\n",
    "nb_gaussian_classifier = GaussianNB()\n",
    "nb_gaussian_classifier.fit(training_data[nb_gaussian_features], training_data[\"target\"])\n",
    "s = nb_gaussian_classifier.score(training_data[nb_gaussian_features], training_data[\"target\"])\n",
    "m = np.mean(cross_val_score(nb_gaussian_classifier, training_data[nb_gaussian_features], training_data[\"target\"], cv=10))\n",
    "print \"in sample score: %s, out of sample score: %s\" %(s,m)\n",
    "\n",
    "\n",
    "# naive bayes gaussian classifier\n",
    "# nb_gaussian_classifier\n",
    "nb_gaussian_classifier = GaussianNB()"
   ]
  },
  {
   "cell_type": "code",
   "execution_count": 9,
   "metadata": {
    "collapsed": false,
    "scrolled": true
   },
   "outputs": [
    {
     "name": "stdout",
     "output_type": "stream",
     "text": [
      "            C        IS        OS\n",
      "0    0.010000  0.526050  0.522621\n",
      "0    0.017783  0.526278  0.522894\n",
      "0    0.031623  0.526005  0.522735\n",
      "0    0.056234  0.526596  0.522621\n",
      "0    0.100000  0.526686  0.522190\n",
      "0    0.177828  0.526641  0.522076\n",
      "0    0.316228  0.526686  0.522053\n",
      "0    0.562341  0.526709  0.521940\n",
      "0    1.000000  0.526732  0.521940\n",
      "0    1.778279  0.526800  0.521872\n",
      "0    3.162278  0.526777  0.521803\n",
      "0    5.623413  0.526800  0.521803\n",
      "0   10.000000  0.526823  0.521849\n",
      "0   17.782794  0.526823  0.521872\n",
      "0   31.622777  0.526800  0.521849\n",
      "0   56.234133  0.526800  0.521849\n",
      "0  100.000000  0.526823  0.521849\n",
      "0  177.827941  0.526800  0.521849\n",
      "0  316.227766  0.526800  0.521872\n",
      "0  562.341325  0.526823  0.521872\n"
     ]
    },
    {
     "data": {
      "image/png": "[encoded data removed]",
      "text/plain": [
       "<matplotlib.figure.Figure at 0x1114f2910>"
      ]
     },
     "metadata": {},
     "output_type": "display_data"
    }
   ],
   "source": [
    "#Logistic regression\n",
    "\n",
    "from sklearn.cross_validation import cross_val_score\n",
    "import math\n",
    "\n",
    "params = np.exp(np.arange(-2.0, 3.0,.25)*math.log(10))\n",
    "log_reg_features = principal_components_features+binary_features\n",
    "\n",
    "def apply_param(p):\n",
    "    lreg_model = sklearn.linear_model.LogisticRegression(C=p)\n",
    "    lreg_model.fit(training_data[log_reg_features], training_data[\"target\"])\n",
    "    IS = lreg_model.score(training_data[log_reg_features], training_data[\"target\"])\n",
    "    OS = np.mean(cross_val_score(lreg_model, training_data[log_reg_features], training_data[\"target\"], cv=10))\n",
    "    return pd.DataFrame([np.array([p, IS, OS])], columns=['C', 'IS', 'OS']) \n",
    "\n",
    "scores = pd.concat(map(apply_param, params))\n",
    "scores.plot(x='C',logx=True)\n",
    "print scores\n",
    "\n",
    "#log reg classifier\n",
    "best_p = 1.0\n",
    "lreg_classifier = sklearn.linear_model.LogisticRegression(C=best_p)\n"
   ]
  },
  {
   "cell_type": "code",
   "execution_count": 10,
   "metadata": {
    "collapsed": false,
    "scrolled": true
   },
   "outputs": [
    {
     "name": "stdout",
     "output_type": "stream",
     "text": [
      "['lda_dir1']\n",
      "             training_score  validation_score\n",
      "n_neighbors                                  \n",
      "11                 0.630388          0.508222\n",
      "18                 0.596412          0.506110\n",
      "32                 0.572882          0.509312\n",
      "57                 0.557960          0.511038\n",
      "101                0.546673          0.514286\n",
      "178                0.540995          0.512582\n",
      "317                0.531524          0.516443\n",
      "563                0.528821          0.522530\n",
      "1001               0.527731          0.518760\n",
      "1779               0.524551          0.522394\n",
      "3163               0.525596          0.524302\n",
      "5624               0.525346          0.523052\n"
     ]
    },
    {
     "data": {
      "image/png": "[encoded data removed]",
      "text/plain": [
       "<matplotlib.figure.Figure at 0x10d263e90>"
      ]
     },
     "metadata": {},
     "output_type": "display_data"
    }
   ],
   "source": [
    "#k-nn\n",
    "from sklearn.neighbors import KNeighborsClassifier\n",
    "import math\n",
    "\n",
    "n_neighbors = map(lambda x:int(math.ceil(x)), np.exp(np.arange(1.0, 4.0,.25)*math.log(10)).tolist())\n",
    "k_nn_features = lda_components\n",
    "print k_nn_features\n",
    "\n",
    "def cv_score(par):\n",
    "    clf = KNeighborsClassifier(n_neighbors=par)\n",
    "    clf.fit(training_data[k_nn_features], training_data[\"target\"])\n",
    "    s = clf.score(training_data[k_nn_features], training_data[\"target\"])\n",
    "    m = np.mean(cross_val_score(clf, training_data[k_nn_features], training_data[\"target\"], cv=5))\n",
    "    dat = np.array([par, s, m])\n",
    "    return pd.DataFrame([dat],columns=['n_neighbors','training_score', 'validation_score'])\n",
    "\n",
    "k_nn_scores = pd.concat(map(cv_score, n_neighbors))\n",
    "k_nn_scores.index = k_nn_scores['n_neighbors']\n",
    "k_nn_scores.drop('n_neighbors',axis=1, inplace=True)\n",
    "\n",
    "print k_nn_scores\n",
    "k_nn_scores.plot(legend=True, grid=True)\n",
    "\n",
    "\n",
    "#k-nn classifier\n",
    "best_nn = 3000\n",
    "k_nn_classifier = KNeighborsClassifier(best_nn)\n",
    "\n"
   ]
  },
  {
   "cell_type": "code",
   "execution_count": 11,
   "metadata": {
    "collapsed": false
   },
   "outputs": [],
   "source": [
    "#TO DO: \n",
    "#try QDA in case covariance changes | y\n",
    "#try votes of k-nn on each principal component + the LDA axis - first try to figure out if that actually makes sense - does it have a chance to work?\n"
   ]
  },
  {
   "cell_type": "code",
   "execution_count": 15,
   "metadata": {
    "collapsed": false
   },
   "outputs": [
    {
     "name": "stdout",
     "output_type": "stream",
     "text": [
      "Accuracy: 0.5242 (+/- 0.0013) [Naive Bayes Gaussian]\n",
      "Accuracy: 0.5218 (+/- 0.0048) [K-nn + LDA]\n",
      "Accuracy: 0.5208 (+/- 0.0047) [logistic regression]\n",
      "Accuracy: 0.5231 (+/- 0.0026) [Ensemble]\n"
     ]
    }
   ],
   "source": [
    "#TO DO:\n",
    "#ensemble model of:\n",
    "# - naive bayes gaussian on original data -> global classif, \n",
    "# - 3000-nn on LDA space -> local classif\n",
    "# maybe - decision tree on original features or PCA features with depth 3 -> global classif (low depth)\n",
    "# maybe - logistic regression with all features + c1 binarized or just the LDA components with c1 binarized -> global classif (low depth)\n",
    "\n",
    "from sklearn.ensemble import VotingClassifier\n",
    "from sklearn import cross_validation\n",
    "\n",
    "ensemble_classifiers = [nb_gaussian_classifier, k_nn_classifier, lreg_classifier]\n",
    "\n",
    "# Training classifiers\n",
    "ensemble_classifier = VotingClassifier(estimators=[('nbg', nb_gaussian_classifier), ('knn', k_nn_classifier), ('lreg', lreg_classifier)],\n",
    "                        voting='soft')\n",
    "\n",
    "ensemble_classifier = ensemble_classifier.fit(training_data[quant_features+lda_components+principal_components_features+binary_features],training_data['target'])\n",
    "\n",
    "for clf, label in zip([nb_gaussian_classifier, k_nn_classifier, lreg_classifier, ensemble_classifier], [\n",
    "        'Naive Bayes Gaussian', 'K-nn + LDA', 'logistic regression', 'Ensemble']):\n",
    "    scores = cross_validation.cross_val_score(clf, training_data[\n",
    "            quant_features+lda_components+principal_components_features+binary_features],training_data['target'], cv=5, scoring='accuracy')\n",
    "    print(\"Accuracy: %0.4f (+/- %0.4f) [%s]\" % (scores.mean(), scores.std(), label))\n",
    "\n",
    "#predict probas, scale to [0;1] and combine them: majority vote (average of the majority), or average of probas\n",
    "\n",
    "#Out of sample:\n",
    "# 1. project new observations to the LDA space\n",
    "# 2. estimate the probabilities from the three classifiers\n",
    "# 3. combine them\n",
    "# 4. make predictions\n",
    "\n"
   ]
  },
  {
   "cell_type": "code",
   "execution_count": 12,
   "metadata": {
    "collapsed": false
   },
   "outputs": [
    {
     "ename": "TypeError",
     "evalue": "data type not understood",
     "output_type": "error",
     "traceback": [
      "\u001b[0;31m---------------------------------------------------------------------------\u001b[0m",
      "\u001b[0;31mTypeError\u001b[0m                                 Traceback (most recent call last)",
      "\u001b[0;32m<ipython-input-12-255042e42525>\u001b[0m in \u001b[0;36m<module>\u001b[0;34m()\u001b[0m\n\u001b[1;32m      7\u001b[0m     \u001b[0mclf\u001b[0m\u001b[0;34m.\u001b[0m\u001b[0mfit\u001b[0m\u001b[0;34m(\u001b[0m\u001b[0mtraining_data\u001b[0m\u001b[0;34m[\u001b[0m\u001b[0mquant_features\u001b[0m\u001b[0;34m+\u001b[0m\u001b[0mlda_components\u001b[0m\u001b[0;34m+\u001b[0m\u001b[0mprincipal_components_features\u001b[0m\u001b[0;34m+\u001b[0m\u001b[0mbinary_features\u001b[0m\u001b[0;34m]\u001b[0m\u001b[0;34m,\u001b[0m \u001b[0mtraining_data\u001b[0m\u001b[0;34m[\u001b[0m\u001b[0;34m\"target\"\u001b[0m\u001b[0;34m]\u001b[0m\u001b[0;34m)\u001b[0m\u001b[0;34m\u001b[0m\u001b[0m\n\u001b[1;32m      8\u001b[0m \u001b[0;34m\u001b[0m\u001b[0m\n\u001b[0;32m----> 9\u001b[0;31m \u001b[0mprobas\u001b[0m \u001b[0;34m=\u001b[0m \u001b[0mnp\u001b[0m\u001b[0;34m.\u001b[0m\u001b[0marray\u001b[0m\u001b[0;34m(\u001b[0m\u001b[0mtraining_data\u001b[0m\u001b[0;34m.\u001b[0m\u001b[0mshape\u001b[0m\u001b[0;34m[\u001b[0m\u001b[0;36m0\u001b[0m\u001b[0;34m]\u001b[0m\u001b[0;34m,\u001b[0m\u001b[0mlen\u001b[0m\u001b[0;34m(\u001b[0m\u001b[0mclassifiers\u001b[0m\u001b[0;34m)\u001b[0m\u001b[0;34m)\u001b[0m\u001b[0;34m\u001b[0m\u001b[0m\n\u001b[0m\u001b[1;32m     10\u001b[0m \u001b[0;32mfor\u001b[0m \u001b[0mi\u001b[0m \u001b[0;32min\u001b[0m \u001b[0mrange\u001b[0m\u001b[0;34m(\u001b[0m\u001b[0;36m0\u001b[0m\u001b[0;34m,\u001b[0m\u001b[0mlen\u001b[0m\u001b[0;34m(\u001b[0m\u001b[0mclassifiers\u001b[0m\u001b[0;34m)\u001b[0m\u001b[0;34m)\u001b[0m\u001b[0;34m:\u001b[0m\u001b[0;34m\u001b[0m\u001b[0m\n\u001b[1;32m     11\u001b[0m     \u001b[0mprobas\u001b[0m\u001b[0;34m[\u001b[0m\u001b[0;34m:\u001b[0m\u001b[0;34m,\u001b[0m\u001b[0mi\u001b[0m\u001b[0;34m]\u001b[0m \u001b[0;34m=\u001b[0m \u001b[0mclf\u001b[0m\u001b[0;34m.\u001b[0m\u001b[0mpredict_proba\u001b[0m\u001b[0;34m(\u001b[0m\u001b[0mtraining_data\u001b[0m\u001b[0;34m[\u001b[0m\u001b[0mquant_features\u001b[0m\u001b[0;34m+\u001b[0m\u001b[0mlda_components\u001b[0m\u001b[0;34m+\u001b[0m\u001b[0mprincipal_components_features\u001b[0m\u001b[0;34m+\u001b[0m\u001b[0mbinary_features\u001b[0m\u001b[0;34m]\u001b[0m\u001b[0;34m)\u001b[0m\u001b[0;34m\u001b[0m\u001b[0m\n",
      "\u001b[0;31mTypeError\u001b[0m: data type not understood"
     ]
    }
   ],
   "source": [
    "# correlation beteen classifiers:\n",
    "import numpy as np\n",
    "\n",
    "classifiers = [nb_gaussian_classifier, k_nn_classifier, lreg_classifier]\n",
    "\n",
    "for clf in classifiers:\n",
    "    clf.fit(training_data[quant_features+lda_components+principal_components_features+binary_features], training_data[\"target\"])\n",
    "\n",
    "probas = np.array(training_data.shape[0],len(classifiers))\n",
    "for i in range(0,len(classifiers)):\n",
    "    probas[:,i] = clf.predict_proba(training_data[quant_features+lda_components+principal_components_features+binary_features])\n",
    "\n",
    "print np.corrcoef(probas)\n",
    "\n"
   ]
  },
  {
   "cell_type": "code",
   "execution_count": 14,
   "metadata": {
    "collapsed": false
   },
   "outputs": [
    {
     "data": {
      "text/plain": [
       "array([2, 3])"
      ]
     },
     "execution_count": 14,
     "metadata": {},
     "output_type": "execute_result"
    }
   ],
   "source": [
    "np.array([2,3])"
   ]
  },
  {
   "cell_type": "code",
   "execution_count": null,
   "metadata": {
    "collapsed": true
   },
   "outputs": [],
   "source": []
  }
 ],
 "metadata": {
  "kernelspec": {
   "display_name": "Python 2",
   "language": "python",
   "name": "python2"
  },
  "language_info": {
   "codemirror_mode": {
    "name": "ipython",
    "version": 2
   },
   "file_extension": ".py",
   "mimetype": "text/x-python",
   "name": "python",
   "nbconvert_exporter": "python",
   "pygments_lexer": "ipython2",
   "version": "2.7.11"
  }
 },
 "nbformat": 4,
 "nbformat_minor": 0
}
