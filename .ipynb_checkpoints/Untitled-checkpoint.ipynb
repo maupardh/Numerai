{
 "cells": [
  {
   "cell_type": "code",
   "execution_count": 1,
   "metadata": {
    "collapsed": true
   },
   "outputs": [],
   "source": [
    "### summary: TOP SCORES: \n",
    "#52.5% with gaussian naive bayes\n",
    "#52.5% with k-nn with ~200 neighbors\n",
    "#52.5% with logistic regression and C~1e-2\n",
    "#52% with a 2 depth decision tree\n",
    "#always going for 1 -> 51%\n",
    "\n",
    "import pandas as pd\n",
    "import numpy as np\n",
    "import matplotlib\n",
    "import matplotlib.pyplot as plt\n",
    "import sklearn\n",
    "from sklearn import linear_model\n",
    "matplotlib.style.use('ggplot')\n",
    "%matplotlib inline\n"
   ]
  },
  {
   "cell_type": "code",
   "execution_count": 2,
   "metadata": {
    "collapsed": false,
    "scrolled": true
   },
   "outputs": [
    {
     "name": "stdout",
     "output_type": "stream",
     "text": [
      "          f1         f2         f3         f4         f5         f6  \\\n",
      "0  134182390   97300587  135824563   90767607   87687197   65148427   \n",
      "1   76630357  132348601   78121737  102794263  120848626  128752983   \n",
      "2  111610401  132186734   83887688  120772423  133722193  100560251   \n",
      "3   72896251  113365043   72912608  126007508  127949612   74975809   \n",
      "4  113253706   96665624   89391907   77862818   91855586  100094204   \n",
      "5  122837395   71633727  125829672   73401946   66388998   71572170   \n",
      "6  116917069   97255589  109352915   77622874   76834712   84847106   \n",
      "7  108136714  110264481   99080283   95949194  108265520  100203479   \n",
      "8  116917069  127552518  124961581  102269449  107669715   84416921   \n",
      "9  107480622   91552319   78127446   84411308   98566229   84213901   \n",
      "\n",
      "          f7         f8         f9        f10        f11        f12  \\\n",
      "0  109834029  131613166  135533479   92106582   98111205   87052852   \n",
      "1   71827456   95945691   98115812  135285479  137364637  130062214   \n",
      "2   69916843  100459177   80742177  134884316  129775817  131335813   \n",
      "3   87833921   68438705   76021871  116126096  118784024  112328751   \n",
      "4  116150057  114434231   98567673   86510339   81789481   87618174   \n",
      "5  127205376  124325380  104335962   68026428   69731113   70653896   \n",
      "6  116720372  120128868   98586919   76939463   75347200   93515529   \n",
      "7  104021088  101739485   91078332  126031517  104474714   98910168   \n",
      "8   88968673  114590554  121720124  130416696  131364184  118360883   \n",
      "9  105476989  113393292   75566731   92050090   95027592   82906635   \n",
      "\n",
      "         f13        f14     c1  validation  target  \n",
      "0   66216076  121781929  c1_23           0       1  \n",
      "1  114819524   76635306   c1_3           1       1  \n",
      "2   89200467   77712207  c1_20           0       0  \n",
      "3   83538128   92643596   c1_3           0       1  \n",
      "4   95158324  124902005   c1_5           0       0  \n",
      "5   84017268  130817902  c1_14           0       1  \n",
      "6  104112136  121666795  c1_10           0       1  \n",
      "7   89391293   81383412  c1_16           1       1  \n",
      "8  104071525   85466444   c1_1           0       0  \n",
      "9   83779072  111725132  c1_15           0       0  \n",
      "\n",
      "\n",
      "\n",
      "Size of datasets: total - 55038, train - 44030, test - 11008, intersect: 0\n"
     ]
    }
   ],
   "source": [
    "numerai_data = pd.read_csv(\"../numerai_datasets/numerai_training_data.csv\")\n",
    "print numerai_data.head(10)\n",
    "\n",
    "#separating train and test\n",
    "frac_for_training = 0.80\n",
    "training_data = numerai_data.sample(frac=frac_for_training)\n",
    "validation_data = numerai_data.drop(training_data.index)\n",
    "check = pd.merge(training_data, validation_data, how='inner')\n",
    "\n",
    "training_data.drop('validation', axis=1, inplace=True)\n",
    "validation_data.drop('validation', axis=1, inplace=True)\n",
    "\n",
    "print('\\n\\n\\nSize of datasets: total - %s, train - %s, test - %s, intersect: %s' %(\n",
    "        numerai_data.shape[0], training_data.shape[0], validation_data.shape[0], check.shape[0]))"
   ]
  },
  {
   "cell_type": "code",
   "execution_count": 56,
   "metadata": {
    "collapsed": false,
    "scrolled": true
   },
   "outputs": [
    {
     "name": "stdout",
     "output_type": "stream",
     "text": [
      "\n",
      "\n",
      "\n",
      "Features are: f1,f2,f3,f4,f5,f6,f7,f8,f9,c1_int,f12,f13,f10,f11,f14\n"
     ]
    },
    {
     "ename": "ValueError",
     "evalue": "Expected array-like (array or non-string sequence), got None",
     "output_type": "error",
     "traceback": [
      "\u001b[0;31m---------------------------------------------------------------------------\u001b[0m",
      "\u001b[0;31mValueError\u001b[0m                                Traceback (most recent call last)",
      "\u001b[0;32m<ipython-input-56-02c81e780a9c>\u001b[0m in \u001b[0;36m<module>\u001b[0;34m()\u001b[0m\n\u001b[1;32m     45\u001b[0m \u001b[0;34m\u001b[0m\u001b[0m\n\u001b[1;32m     46\u001b[0m \u001b[0mIS_auc\u001b[0m \u001b[0;34m=\u001b[0m \u001b[0mroc_auc_score\u001b[0m\u001b[0;34m(\u001b[0m\u001b[0mnb_gaussian_training_data\u001b[0m\u001b[0;34m[\u001b[0m\u001b[0;34m\"target\"\u001b[0m\u001b[0;34m]\u001b[0m\u001b[0;34m.\u001b[0m\u001b[0mtolist\u001b[0m\u001b[0;34m(\u001b[0m\u001b[0;34m)\u001b[0m\u001b[0;34m,\u001b[0m \u001b[0mclf\u001b[0m\u001b[0;34m.\u001b[0m\u001b[0mpredict_proba\u001b[0m\u001b[0;34m(\u001b[0m\u001b[0mnb_gaussian_training_data\u001b[0m\u001b[0;34m[\u001b[0m\u001b[0mfeatures\u001b[0m\u001b[0;34m]\u001b[0m\u001b[0;34m)\u001b[0m\u001b[0;34m[\u001b[0m\u001b[0;34m:\u001b[0m\u001b[0;34m,\u001b[0m\u001b[0;36m1\u001b[0m\u001b[0;34m]\u001b[0m\u001b[0;34m.\u001b[0m\u001b[0mtolist\u001b[0m\u001b[0;34m(\u001b[0m\u001b[0;34m)\u001b[0m\u001b[0;34m)\u001b[0m\u001b[0;34m\u001b[0m\u001b[0m\n\u001b[0;32m---> 47\u001b[0;31m \u001b[0mCV_auc\u001b[0m \u001b[0;34m=\u001b[0m \u001b[0mroc_auc_score\u001b[0m\u001b[0;34m(\u001b[0m\u001b[0mnb_gaussian_training_data\u001b[0m\u001b[0;34m[\u001b[0m\u001b[0;34m\"target\"\u001b[0m\u001b[0;34m]\u001b[0m\u001b[0;34m.\u001b[0m\u001b[0mtolist\u001b[0m\u001b[0;34m(\u001b[0m\u001b[0;34m)\u001b[0m\u001b[0;34m,\u001b[0m \u001b[0mcross_val_predict\u001b[0m\u001b[0;34m(\u001b[0m\u001b[0mclf\u001b[0m\u001b[0;34m,\u001b[0m \u001b[0mnb_gaussian_training_data\u001b[0m\u001b[0;34m[\u001b[0m\u001b[0mfeatures\u001b[0m\u001b[0;34m]\u001b[0m\u001b[0;34m,\u001b[0m \u001b[0mcv\u001b[0m\u001b[0;34m=\u001b[0m\u001b[0;36m10\u001b[0m\u001b[0;34m)\u001b[0m\u001b[0;34m.\u001b[0m\u001b[0mtolist\u001b[0m\u001b[0;34m(\u001b[0m\u001b[0;34m)\u001b[0m\u001b[0;34m)\u001b[0m\u001b[0;34m\u001b[0m\u001b[0m\n\u001b[0m\u001b[1;32m     48\u001b[0m \u001b[0;34m\u001b[0m\u001b[0m\n\u001b[1;32m     49\u001b[0m \u001b[0;32mprint\u001b[0m \u001b[0;34m\"in sample score: %s, out of sample score: %s\"\u001b[0m \u001b[0;34m%\u001b[0m\u001b[0;34m(\u001b[0m\u001b[0mIS_score\u001b[0m\u001b[0;34m,\u001b[0m\u001b[0mCV_score\u001b[0m\u001b[0;34m)\u001b[0m\u001b[0;34m\u001b[0m\u001b[0m\n",
      "\u001b[0;32m/Library/Frameworks/Python.framework/Versions/2.7/lib/python2.7/site-packages/sklearn/cross_validation.pyc\u001b[0m in \u001b[0;36mcross_val_predict\u001b[0;34m(estimator, X, y, cv, n_jobs, verbose, fit_params, pre_dispatch)\u001b[0m\n\u001b[1;32m   1247\u001b[0m     \u001b[0mX\u001b[0m\u001b[0;34m,\u001b[0m \u001b[0my\u001b[0m \u001b[0;34m=\u001b[0m \u001b[0mindexable\u001b[0m\u001b[0;34m(\u001b[0m\u001b[0mX\u001b[0m\u001b[0;34m,\u001b[0m \u001b[0my\u001b[0m\u001b[0;34m)\u001b[0m\u001b[0;34m\u001b[0m\u001b[0m\n\u001b[1;32m   1248\u001b[0m \u001b[0;34m\u001b[0m\u001b[0m\n\u001b[0;32m-> 1249\u001b[0;31m     \u001b[0mcv\u001b[0m \u001b[0;34m=\u001b[0m \u001b[0mcheck_cv\u001b[0m\u001b[0;34m(\u001b[0m\u001b[0mcv\u001b[0m\u001b[0;34m,\u001b[0m \u001b[0mX\u001b[0m\u001b[0;34m,\u001b[0m \u001b[0my\u001b[0m\u001b[0;34m,\u001b[0m \u001b[0mclassifier\u001b[0m\u001b[0;34m=\u001b[0m\u001b[0mis_classifier\u001b[0m\u001b[0;34m(\u001b[0m\u001b[0mestimator\u001b[0m\u001b[0;34m)\u001b[0m\u001b[0;34m)\u001b[0m\u001b[0;34m\u001b[0m\u001b[0m\n\u001b[0m\u001b[1;32m   1250\u001b[0m     \u001b[0;31m# We clone the estimator to make sure that all the folds are\u001b[0m\u001b[0;34m\u001b[0m\u001b[0;34m\u001b[0m\u001b[0m\n\u001b[1;32m   1251\u001b[0m     \u001b[0;31m# independent, and that it is pickle-able.\u001b[0m\u001b[0;34m\u001b[0m\u001b[0;34m\u001b[0m\u001b[0m\n",
      "\u001b[0;32m/Library/Frameworks/Python.framework/Versions/2.7/lib/python2.7/site-packages/sklearn/cross_validation.pyc\u001b[0m in \u001b[0;36mcheck_cv\u001b[0;34m(cv, X, y, classifier)\u001b[0m\n\u001b[1;32m   1674\u001b[0m     \u001b[0;32mif\u001b[0m \u001b[0misinstance\u001b[0m\u001b[0;34m(\u001b[0m\u001b[0mcv\u001b[0m\u001b[0;34m,\u001b[0m \u001b[0mnumbers\u001b[0m\u001b[0;34m.\u001b[0m\u001b[0mIntegral\u001b[0m\u001b[0;34m)\u001b[0m\u001b[0;34m:\u001b[0m\u001b[0;34m\u001b[0m\u001b[0m\n\u001b[1;32m   1675\u001b[0m         \u001b[0;32mif\u001b[0m \u001b[0mclassifier\u001b[0m\u001b[0;34m:\u001b[0m\u001b[0;34m\u001b[0m\u001b[0m\n\u001b[0;32m-> 1676\u001b[0;31m             \u001b[0;32mif\u001b[0m \u001b[0mtype_of_target\u001b[0m\u001b[0;34m(\u001b[0m\u001b[0my\u001b[0m\u001b[0;34m)\u001b[0m \u001b[0;32min\u001b[0m \u001b[0;34m[\u001b[0m\u001b[0;34m'binary'\u001b[0m\u001b[0;34m,\u001b[0m \u001b[0;34m'multiclass'\u001b[0m\u001b[0;34m]\u001b[0m\u001b[0;34m:\u001b[0m\u001b[0;34m\u001b[0m\u001b[0m\n\u001b[0m\u001b[1;32m   1677\u001b[0m                 \u001b[0mcv\u001b[0m \u001b[0;34m=\u001b[0m \u001b[0mStratifiedKFold\u001b[0m\u001b[0;34m(\u001b[0m\u001b[0my\u001b[0m\u001b[0;34m,\u001b[0m \u001b[0mcv\u001b[0m\u001b[0;34m)\u001b[0m\u001b[0;34m\u001b[0m\u001b[0m\n\u001b[1;32m   1678\u001b[0m             \u001b[0;32melse\u001b[0m\u001b[0;34m:\u001b[0m\u001b[0;34m\u001b[0m\u001b[0m\n",
      "\u001b[0;32m/Library/Frameworks/Python.framework/Versions/2.7/lib/python2.7/site-packages/sklearn/utils/multiclass.pyc\u001b[0m in \u001b[0;36mtype_of_target\u001b[0;34m(y)\u001b[0m\n\u001b[1;32m    234\u001b[0m     \u001b[0;32mif\u001b[0m \u001b[0;32mnot\u001b[0m \u001b[0mvalid\u001b[0m\u001b[0;34m:\u001b[0m\u001b[0;34m\u001b[0m\u001b[0m\n\u001b[1;32m    235\u001b[0m         raise ValueError('Expected array-like (array or non-string sequence), '\n\u001b[0;32m--> 236\u001b[0;31m                          'got %r' % y)\n\u001b[0m\u001b[1;32m    237\u001b[0m \u001b[0;34m\u001b[0m\u001b[0m\n\u001b[1;32m    238\u001b[0m     \u001b[0;32mif\u001b[0m \u001b[0mis_multilabel\u001b[0m\u001b[0;34m(\u001b[0m\u001b[0my\u001b[0m\u001b[0;34m)\u001b[0m\u001b[0;34m:\u001b[0m\u001b[0;34m\u001b[0m\u001b[0m\n",
      "\u001b[0;31mValueError\u001b[0m: Expected array-like (array or non-string sequence), got None"
     ]
    }
   ],
   "source": [
    "#naive bayes gaussian\n",
    "\n",
    "from sklearn.naive_bayes import GaussianNB\n",
    "from sklearn.cross_validation import cross_val_score, cross_val_predict\n",
    "from sklearn import preprocessing\n",
    "from sklearn.metrics import roc_auc_score\n",
    "\n",
    "nb_gaussian_training_data = training_data.copy(deep = True)\n",
    "\n",
    "try:\n",
    "    nb_gaussian_training_data[\"c1_int\"] = nb_gaussian_training_data[\"c1\"].apply(lambda x: int(x[3:]))\n",
    "except Exception:\n",
    "    le = preprocessing.LabelEncoder()\n",
    "    le.fit_transform(list(set(nb_gaussian_training_data[\"c1\"])))\n",
    "    nb_gaussian_training_data[\"c1_int\"] = le.transform(np.asarray(nb_gaussian_training_data[\"c1\"]))\n",
    "\n",
    "#features:\n",
    "features = list(set(nb_gaussian_training_data.columns).difference({'target', 'validation','c1'}))\n",
    "print (\"\\n\\n\\nFeatures are: %s\" %','.join(features))\n",
    "\n",
    "#minmax_scale = preprocessing.MinMaxScaler().fit(nb_gaussian_training_data[features])\n",
    "#nb_gaussian_training_data[features] = minmax_scale.transform(nb_gaussian_training_data[features])\n",
    "\n",
    "\n",
    "#print nb_gaussian_training_data[features].head(20)\n",
    "\n",
    "class modified_GaussianNB(GaussianNB):\n",
    "    def predict(self, X):\n",
    "        preds = self.predict_proba(X)\n",
    "        target_one_index = self.classes_.tolist().index(1)\n",
    "        return preds[:,1].tolist()\n",
    "\n",
    "#Cross validation score\n",
    "clf = GaussianNB()\n",
    "clf.fit(nb_gaussian_training_data[features], nb_gaussian_training_data[\"target\"])\n",
    "IS_score = clf.score(nb_gaussian_training_data[features], nb_gaussian_training_data[\"target\"])\n",
    "CV_score = np.mean(cross_val_score(clf, nb_gaussian_training_data[features], nb_gaussian_training_data[\"target\"], cv=10))\n",
    "\n",
    "#Cross validation probabilities\n",
    "clf = modified_GaussianNB()\n",
    "clf.fit(nb_gaussian_training_data[features], nb_gaussian_training_data[\"target\"])\n",
    "proba_preds = clf.predict_proba(nb_gaussian_training_data[features])[:,1].tolist()\n",
    "check_with_modified_probas = clf.predict(nb_gaussian_training_data[features])\n",
    "\n",
    "\n",
    "IS_auc = roc_auc_score(nb_gaussian_training_data[\"target\"].tolist(), clf.predict_proba(nb_gaussian_training_data[features])[:,1].tolist()) \n",
    "CV_auc = roc_auc_score(nb_gaussian_training_data[\"target\"].tolist(), cross_val_predict(clf, nb_gaussian_training_data[features], cv=10).tolist())\n",
    "\n",
    "print \"in sample score: %s, out of sample score: %s\" %(IS_score,CV_score)\n",
    "print \"in sample auc: %s, out of sample auc: %s\" %(IS_auc,CV_auc)\n",
    "\n",
    "perf_df = pd.DataFrame(zip(proba_preds, nb_gaussian_training_data[\"target\"].tolist()), columns=['probs', 'target'])\n",
    "perf_df.sort('probs', ascending=True, inplace=True)\n",
    "perf_df.reindex()\n",
    "perf_df.plot()\n"
   ]
  },
  {
   "cell_type": "code",
   "execution_count": 103,
   "metadata": {
    "collapsed": false,
    "scrolled": true
   },
   "outputs": [
    {
     "name": "stdout",
     "output_type": "stream",
     "text": [
      "\n",
      "\n",
      "\n",
      "Features are: f1,f2,f3,f4,f5,f6,f7,f8,f9,f12,f13,f10,f11,f14\n"
     ]
    },
    {
     "data": {
      "image/png": "[encoded data removed]",
      "text/plain": [
       "<matplotlib.figure.Figure at 0x117fd9d10>"
      ]
     },
     "metadata": {},
     "output_type": "display_data"
    }
   ],
   "source": [
    "#LDA\n",
    "\n",
    "#naive bayes gaussian\n",
    "\n",
    "from sklearn.naive_bayes import GaussianNB\n",
    "from sklearn.cross_validation import cross_val_score, cross_val_predict\n",
    "from sklearn import preprocessing\n",
    "from sklearn.metrics import roc_auc_score\n",
    "import numpy as np\n",
    "from sklearn.lda import LDA\n",
    "from sklearn.preprocessing import scale\n",
    "from sklearn.decomposition import PCA\n",
    "import math\n",
    "\n",
    "variance_cutoff = 0.75\n",
    "\n",
    "LDA_training_data = training_data.copy(deep = True)\n",
    "\n",
    "#features:\n",
    "features = list(set(LDA_training_data.columns).difference({'target', 'validation','c1'}))\n",
    "print (\"\\n\\n\\nFeatures are: %s\" %','.join(features))\n",
    "\n",
    "#centering\n",
    "LDA_training_data[features] = LDA_training_data[features].apply(lambda x: x-np.mean(x), axis=1)\n",
    "\n",
    "#PCA\n",
    "pca_ = PCA()\n",
    "pca_.fit(LDA_training_data[features])\n",
    "principal_components_features = map(lambda t: t[0]+str(t[1]), zip([\"PC_\"]*len(features), range(1,len(features)+1)))\n",
    "for f in principal_components_features:\n",
    "    LDA_training_data[f] = 0\n",
    "LDA_training_data.loc[:,principal_components_features] = pca_.transform(LDA_training_data[features])\n",
    "\n",
    "l_principal_components = np.argmax(np.cumsum(np.array(pca_.explained_variance_ratio_))>variance_cutoff)\n",
    "principal_components_features = principal_components_features[0:l_principal_components]\n",
    "\n",
    "#category\n",
    "#try:\n",
    "#    LDA_training_data[\"c1_int\"] = LDA_training_data[\"c1\"].apply(lambda x: int(x[3:]))\n",
    "#except Exception:\n",
    "#    le = preprocessing.LabelEncoder()\n",
    "#    le.fit_transform(list(set(LDA_training_data[\"c1\"])))\n",
    "#    LDA_training_data[\"c1_int\"] = le.transform(np.asarray(LDA_training_data[\"c1\"]))\n",
    "\n",
    "\n",
    "\n",
    "for i in range(0,l_principal_components):\n",
    "    ax = plt.subplot(math.ceil(math.sqrt(l_principal_components)), math.ceil(math.sqrt(l_principal_components)), i)\n",
    "    bins = np.linspace(np.min(LDA_training_data.loc[:,principal_components_features[i]]), np.max(LDA_training_data.loc[:,principal_components_features[i]]), 100)\n",
    "    ax.hist(LDA_training_data.ix[LDA_training_data.loc[:,'target']==0,principal_components_features[i]].tolist(), bins, alpha=0.5, label='0')\n",
    "    ax.hist(LDA_training_data.ix[LDA_training_data.loc[:,'target']==1,principal_components_features[i]].tolist(), bins, alpha=0.5, label='1')\n",
    "    ax.legend(loc='upper right')\n",
    "\n",
    "plt.show()\n",
    "\n",
    "#clf = sklearn.lda.LDA()\n",
    "#clf.fit(LDA_training_data[features], LDA_training_data['target'],store_covariance=True)\n",
    "#IS_score = clf.score(LDA_training_data[features], LDA_training_data['target'])\n",
    "#CV_score = np.mean(cross_val_score(clf, LDA_training_data[features], LDA_training_data['target'], cv=10))\n",
    "\n",
    "#print \"in sample score: %s, out of sample score: %s\" %(IS_score,CV_score)\n",
    "\n",
    "#LDA_training_data['lda_dir1'] = clf.transform(LDA_training_data[features])\n",
    "\n",
    "\n",
    "#bins = np.linspace(-2, 2, 100)\n",
    "#plt.hist(LDA_transformed_data.ix[LDA_transformed_data.loc[:,'target']==0,'lda_dir1'].tolist(), bins, alpha=0.5, label='0')\n",
    "#plt.hist(LDA_transformed_data.ix[LDA_transformed_data.loc[:,'target']==1,'lda_dir1'].tolist(), bins, alpha=0.5, label='1')\n",
    "#plt.legend(loc='upper right')\n",
    "#plt.show()\n",
    "\n"
   ]
  },
  {
   "cell_type": "code",
   "execution_count": 99,
   "metadata": {
    "collapsed": false
   },
   "outputs": [
    {
     "name": "stdout",
     "output_type": "stream",
     "text": [
      "\n",
      "\n",
      "\n",
      "Features are: f1,f2,f3,f4,f5,f6,f7,f8,f9,f12,f13,f10,f11,f14\n"
     ]
    },
    {
     "data": {
      "text/plain": [
       "<matplotlib.axes._subplots.AxesSubplot at 0x1161b5090>"
      ]
     },
     "execution_count": 99,
     "metadata": {},
     "output_type": "execute_result"
    },
    {
     "data": {
      "image/png": "[encoded data removed]",
      "text/plain": [
       "<matplotlib.figure.Figure at 0x111b2e250>"
      ]
     },
     "metadata": {},
     "output_type": "display_data"
    }
   ],
   "source": [
    "#LDA\n",
    "\n",
    "#naive bayes gaussian\n",
    "\n",
    "from sklearn.naive_bayes import GaussianNB\n",
    "from sklearn.cross_validation import cross_val_score, cross_val_predict\n",
    "from sklearn import preprocessing\n",
    "from sklearn.metrics import roc_auc_score\n",
    "import numpy as np\n",
    "from sklearn.lda import LDA\n",
    "from sklearn.preprocessing import scale\n",
    "from sklearn.decomposition import PCA\n",
    "variance_cutoff = 0.75\n",
    "\n",
    "LDA_training_data = training_data.copy(deep = True)\n",
    "\n",
    "#features:\n",
    "features = list(set(LDA_training_data.columns).difference({'target', 'validation','c1'}))\n",
    "print (\"\\n\\n\\nFeatures are: %s\" %','.join(features))\n",
    "\n",
    "#centering\n",
    "LDA_training_data[features] = LDA_training_data[features].apply(lambda x: x-np.mean(x), axis=1)\n",
    "\n",
    "#PCA\n",
    "pca_ = PCA()\n",
    "pca_.fit(LDA_training_data[features])\n",
    "principal_components_features = map(lambda t: t[0]+str(t[1]), zip([\"PC_\"]*len(features), range(1,len(features)+1)))\n",
    "for f in principal_components_features:\n",
    "    LDA_training_data[f] = 0\n",
    "LDA_training_data.loc[:,principal_components_features] = pca_.transform(LDA_training_data[features])\n",
    "\n",
    "l_principal_components = np.argmax(np.cumsum(np.array(pca_.explained_variance_ratio_))>variance_cutoff)\n",
    "principal_components_features = principal_components_features[0:l_principal_components]\n",
    "\n",
    "first_eigenvector = pca_.components_[0]\n",
    "a = LDA_training_data[features].apply(np.mean, axis=0)\n",
    "b = LDA_training_data[features].apply(np.std, axis=0)\n",
    "unit_mean = pd.concat([a, b], axis=1).loc[:,0]\n",
    "unit_mean = unit_mean/np.sqrt(np.sum(unit_mean**2))\n",
    "\n",
    "pd.DataFrame(zip(first_eigenvector,unit_mean.tolist()), columns=['eigen_vector','unit_mean']).plot(kind='bar')"
   ]
  },
  {
   "cell_type": "code",
   "execution_count": 92,
   "metadata": {
    "collapsed": false
   },
   "outputs": [
    {
     "name": "stdout",
     "output_type": "stream",
     "text": [
      "[ 0.26728344  0.26726831  0.26724864  0.26724856  0.26721227  0.26726284\n",
      "  0.26726594  0.2672452   0.26724775  0.26725626  0.26732469  0.26724897\n",
      "  0.26727204  0.26727246]\n"
     ]
    }
   ],
   "source": [
    "LDA_training_data = pd.DataFrame(np.random.randn(100,14)+1000, columns=map(lambda t: t[0]+str(t[1]), zip(['f']*14, range(1,15))))\n",
    "(w,v) = np.linalg.eigh(np.dot(np.transpose(LDA_training_data[features].as_matrix()),LDA_training_data[features].as_matrix()))\n",
    "print v[:,13]"
   ]
  },
  {
   "cell_type": "code",
   "execution_count": 76,
   "metadata": {
    "collapsed": false
   },
   "outputs": [
    {
     "data": {
      "text/plain": [
       "<matplotlib.axes._subplots.AxesSubplot at 0x111c0f350>"
      ]
     },
     "execution_count": 76,
     "metadata": {},
     "output_type": "execute_result"
    },
    {
     "data": {
      "image/png": "[encoded data removed]",
      "text/plain": [
       "<matplotlib.figure.Figure at 0x111137910>"
      ]
     },
     "metadata": {},
     "output_type": "display_data"
    }
   ],
   "source": [
    "pd.DataFrame(v[:,13]).plot(kind='bar')"
   ]
  },
  {
   "cell_type": "code",
   "execution_count": 83,
   "metadata": {
    "collapsed": false
   },
   "outputs": [
    {
     "data": {
      "text/plain": [
       "array([-0.1662101 , -0.12293247,  0.18176329,  0.30887437, -0.17413271,\n",
       "        0.09058132, -0.11195485, -0.07218823,  0.70127759, -0.38076134,\n",
       "        0.04907278,  0.00952519, -0.36481924, -0.01367218])"
      ]
     },
     "execution_count": 83,
     "metadata": {},
     "output_type": "execute_result"
    }
   ],
   "source": [
    "pca_.components_[13,:]"
   ]
  },
  {
   "cell_type": "code",
   "execution_count": null,
   "metadata": {
    "collapsed": true
   },
   "outputs": [],
   "source": []
  }
 ],
 "metadata": {
  "kernelspec": {
   "display_name": "Python 2",
   "language": "python",
   "name": "python2"
  },
  "language_info": {
   "codemirror_mode": {
    "name": "ipython",
    "version": 2
   },
   "file_extension": ".py",
   "mimetype": "text/x-python",
   "name": "python",
   "nbconvert_exporter": "python",
   "pygments_lexer": "ipython2",
   "version": "2.7.11"
  }
 },
 "nbformat": 4,
 "nbformat_minor": 0
}
