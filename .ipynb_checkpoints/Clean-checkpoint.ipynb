{
 "cells": [
  {
   "cell_type": "code",
   "execution_count": 1,
   "metadata": {
    "collapsed": false
   },
   "outputs": [],
   "source": [
    "### summary: TOP SCORES: \n",
    "#52.5% with gaussian naive bayes\n",
    "#52.5% with k-nn with ~200 neighbors\n",
    "#52.5% with logistic regression and C~1e-2\n",
    "#52% with a 2 depth decision tree\n",
    "#always going for 1 -> 50.7%\n",
    "\n",
    "import pandas as pd\n",
    "import numpy as np\n",
    "import matplotlib\n",
    "import matplotlib.pyplot as plt\n",
    "import sklearn\n",
    "from sklearn import linear_model\n",
    "matplotlib.style.use('ggplot')\n",
    "%matplotlib inline\n"
   ]
  },
  {
   "cell_type": "code",
   "execution_count": 2,
   "metadata": {
    "collapsed": false,
    "scrolled": true
   },
   "outputs": [
    {
     "name": "stdout",
     "output_type": "stream",
     "text": [
      "          f1         f2         f3         f4         f5         f6  \\\n",
      "0  134182390   97300587  135824563   90767607   87687197   65148427   \n",
      "1   76630357  132348601   78121737  102794263  120848626  128752983   \n",
      "2  111610401  132186734   83887688  120772423  133722193  100560251   \n",
      "3   72896251  113365043   72912608  126007508  127949612   74975809   \n",
      "4  113253706   96665624   89391907   77862818   91855586  100094204   \n",
      "\n",
      "          f7         f8         f9        f10        f11        f12  \\\n",
      "0  109834029  131613166  135533479   92106582   98111205   87052852   \n",
      "1   71827456   95945691   98115812  135285479  137364637  130062214   \n",
      "2   69916843  100459177   80742177  134884316  129775817  131335813   \n",
      "3   87833921   68438705   76021871  116126096  118784024  112328751   \n",
      "4  116150057  114434231   98567673   86510339   81789481   87618174   \n",
      "\n",
      "         f13        f14     c1  validation  target  \n",
      "0   66216076  121781929  c1_23           0       1  \n",
      "1  114819524   76635306   c1_3           1       1  \n",
      "2   89200467   77712207  c1_20           0       0  \n",
      "3   83538128   92643596   c1_3           0       1  \n",
      "4   95158324  124902005   c1_5           0       0  \n",
      "\n",
      "\n",
      "\n",
      "Size of datasets: total - 55038, train - 44030, test - 11008, intersect: 0\n"
     ]
    }
   ],
   "source": [
    "numerai_data = pd.read_csv(\"./Datasets/numerai_training_data.csv\")\n",
    "print numerai_data.head(5)\n",
    "\n",
    "#separating train and test\n",
    "frac_for_training = 0.80\n",
    "training_data = numerai_data.sample(frac=frac_for_training)\n",
    "validation_data = numerai_data.drop(training_data.index)\n",
    "check = pd.merge(training_data, validation_data, how='inner')\n",
    "\n",
    "training_data.drop('validation', axis=1, inplace=True)\n",
    "validation_data.drop('validation', axis=1, inplace=True)\n",
    "\n",
    "print('\\n\\n\\nSize of datasets: total - %s, train - %s, test - %s, intersect: %s' %(\n",
    "        numerai_data.shape[0], training_data.shape[0], validation_data.shape[0], check.shape[0]))"
   ]
  },
  {
   "cell_type": "code",
   "execution_count": 3,
   "metadata": {
    "collapsed": false
   },
   "outputs": [
    {
     "name": "stdout",
     "output_type": "stream",
     "text": [
      "Categorical feature transformed:\n",
      "          c1  c1_int\n",
      "6642    c1_3       3\n",
      "54536  c1_20      20\n",
      "8242   c1_23      23\n",
      "45838   c1_8       8\n",
      "41022   c1_8       8\n",
      "\n",
      "\n",
      "\n",
      "Quant features are: f1,f2,f3,f4,f5,f6,f7,f8,f9,f10,f11,f12,f13,f14\n",
      "\n",
      "\n",
      "\n",
      "Binary features are: bin_c1_1,bin_c1_10,bin_c1_11,bin_c1_12,bin_c1_13,bin_c1_14,bin_c1_15,bin_c1_16,bin_c1_17,bin_c1_18,bin_c1_19,bin_c1_20,bin_c1_21,bin_c1_22,bin_c1_23,bin_c1_24,bin_c1_3,bin_c1_4,bin_c1_5,bin_c1_6,bin_c1_7,bin_c1_8,bin_c1_9\n"
     ]
    }
   ],
   "source": [
    "#preprocessing the categorical feature c1\n",
    "\n",
    "from sklearn import preprocessing\n",
    "\n",
    "try:\n",
    "    training_data[\"c1_int\"] = training_data[\"c1\"].apply(lambda x: int(x[3:]))\n",
    "except Exception:\n",
    "    le = preprocessing.LabelEncoder()\n",
    "    le.fit_transform(list(set(training_data[\"c1\"])))\n",
    "    training_data[\"c1_int\"] = le.transform(np.asarray(training_data[\"c1\"]))\n",
    "\n",
    "print \"Categorical feature transformed:\"\n",
    "print training_data[[\"c1\", \"c1_int\"]].head(5)\n",
    "\n",
    "binaries = pd.get_dummies(training_data['c1'], prefix='bin_', prefix_sep='', dummy_na=False, columns=['c1'], sparse=False)\n",
    "training_data = pd.concat([training_data, binaries], axis=1)\n",
    "\n",
    "#features:\n",
    "quant_features = ['f1','f2','f3','f4','f5','f6','f7','f8','f9','f10','f11','f12','f13','f14']\n",
    "binary_features = [c for c in training_data.columns if c.startswith('bin_')]\n",
    "print (\"\\n\\n\\nQuant features are: %s\" %','.join(quant_features))\n",
    "print (\"\\n\\n\\nBinary features are: %s\" %','.join(binary_features))"
   ]
  },
  {
   "cell_type": "code",
   "execution_count": 4,
   "metadata": {
    "collapsed": false
   },
   "outputs": [
    {
     "data": {
      "text/html": [
       "<div>\n",
       "<table border=\"1\" class=\"dataframe\">\n",
       "  <thead>\n",
       "    <tr style=\"text-align: right;\">\n",
       "      <th></th>\n",
       "      <th>c1</th>\n",
       "      <th>bin_c1_1</th>\n",
       "      <th>bin_c1_10</th>\n",
       "      <th>bin_c1_11</th>\n",
       "      <th>bin_c1_12</th>\n",
       "      <th>bin_c1_13</th>\n",
       "      <th>bin_c1_14</th>\n",
       "      <th>bin_c1_15</th>\n",
       "      <th>bin_c1_16</th>\n",
       "      <th>bin_c1_17</th>\n",
       "      <th>...</th>\n",
       "      <th>bin_c1_22</th>\n",
       "      <th>bin_c1_23</th>\n",
       "      <th>bin_c1_24</th>\n",
       "      <th>bin_c1_3</th>\n",
       "      <th>bin_c1_4</th>\n",
       "      <th>bin_c1_5</th>\n",
       "      <th>bin_c1_6</th>\n",
       "      <th>bin_c1_7</th>\n",
       "      <th>bin_c1_8</th>\n",
       "      <th>bin_c1_9</th>\n",
       "    </tr>\n",
       "  </thead>\n",
       "  <tbody>\n",
       "    <tr>\n",
       "      <th>6642</th>\n",
       "      <td>c1_3</td>\n",
       "      <td>0</td>\n",
       "      <td>0</td>\n",
       "      <td>0</td>\n",
       "      <td>0</td>\n",
       "      <td>0</td>\n",
       "      <td>0</td>\n",
       "      <td>0</td>\n",
       "      <td>0</td>\n",
       "      <td>0</td>\n",
       "      <td>...</td>\n",
       "      <td>0</td>\n",
       "      <td>0</td>\n",
       "      <td>0</td>\n",
       "      <td>1</td>\n",
       "      <td>0</td>\n",
       "      <td>0</td>\n",
       "      <td>0</td>\n",
       "      <td>0</td>\n",
       "      <td>0</td>\n",
       "      <td>0</td>\n",
       "    </tr>\n",
       "    <tr>\n",
       "      <th>54536</th>\n",
       "      <td>c1_20</td>\n",
       "      <td>0</td>\n",
       "      <td>0</td>\n",
       "      <td>0</td>\n",
       "      <td>0</td>\n",
       "      <td>0</td>\n",
       "      <td>0</td>\n",
       "      <td>0</td>\n",
       "      <td>0</td>\n",
       "      <td>0</td>\n",
       "      <td>...</td>\n",
       "      <td>0</td>\n",
       "      <td>0</td>\n",
       "      <td>0</td>\n",
       "      <td>0</td>\n",
       "      <td>0</td>\n",
       "      <td>0</td>\n",
       "      <td>0</td>\n",
       "      <td>0</td>\n",
       "      <td>0</td>\n",
       "      <td>0</td>\n",
       "    </tr>\n",
       "    <tr>\n",
       "      <th>8242</th>\n",
       "      <td>c1_23</td>\n",
       "      <td>0</td>\n",
       "      <td>0</td>\n",
       "      <td>0</td>\n",
       "      <td>0</td>\n",
       "      <td>0</td>\n",
       "      <td>0</td>\n",
       "      <td>0</td>\n",
       "      <td>0</td>\n",
       "      <td>0</td>\n",
       "      <td>...</td>\n",
       "      <td>0</td>\n",
       "      <td>1</td>\n",
       "      <td>0</td>\n",
       "      <td>0</td>\n",
       "      <td>0</td>\n",
       "      <td>0</td>\n",
       "      <td>0</td>\n",
       "      <td>0</td>\n",
       "      <td>0</td>\n",
       "      <td>0</td>\n",
       "    </tr>\n",
       "    <tr>\n",
       "      <th>45838</th>\n",
       "      <td>c1_8</td>\n",
       "      <td>0</td>\n",
       "      <td>0</td>\n",
       "      <td>0</td>\n",
       "      <td>0</td>\n",
       "      <td>0</td>\n",
       "      <td>0</td>\n",
       "      <td>0</td>\n",
       "      <td>0</td>\n",
       "      <td>0</td>\n",
       "      <td>...</td>\n",
       "      <td>0</td>\n",
       "      <td>0</td>\n",
       "      <td>0</td>\n",
       "      <td>0</td>\n",
       "      <td>0</td>\n",
       "      <td>0</td>\n",
       "      <td>0</td>\n",
       "      <td>0</td>\n",
       "      <td>1</td>\n",
       "      <td>0</td>\n",
       "    </tr>\n",
       "    <tr>\n",
       "      <th>41022</th>\n",
       "      <td>c1_8</td>\n",
       "      <td>0</td>\n",
       "      <td>0</td>\n",
       "      <td>0</td>\n",
       "      <td>0</td>\n",
       "      <td>0</td>\n",
       "      <td>0</td>\n",
       "      <td>0</td>\n",
       "      <td>0</td>\n",
       "      <td>0</td>\n",
       "      <td>...</td>\n",
       "      <td>0</td>\n",
       "      <td>0</td>\n",
       "      <td>0</td>\n",
       "      <td>0</td>\n",
       "      <td>0</td>\n",
       "      <td>0</td>\n",
       "      <td>0</td>\n",
       "      <td>0</td>\n",
       "      <td>1</td>\n",
       "      <td>0</td>\n",
       "    </tr>\n",
       "  </tbody>\n",
       "</table>\n",
       "<p>5 rows × 24 columns</p>\n",
       "</div>"
      ],
      "text/plain": [
       "          c1  bin_c1_1  bin_c1_10  bin_c1_11  bin_c1_12  bin_c1_13  bin_c1_14  \\\n",
       "6642    c1_3         0          0          0          0          0          0   \n",
       "54536  c1_20         0          0          0          0          0          0   \n",
       "8242   c1_23         0          0          0          0          0          0   \n",
       "45838   c1_8         0          0          0          0          0          0   \n",
       "41022   c1_8         0          0          0          0          0          0   \n",
       "\n",
       "       bin_c1_15  bin_c1_16  bin_c1_17    ...     bin_c1_22  bin_c1_23  \\\n",
       "6642           0          0          0    ...             0          0   \n",
       "54536          0          0          0    ...             0          0   \n",
       "8242           0          0          0    ...             0          1   \n",
       "45838          0          0          0    ...             0          0   \n",
       "41022          0          0          0    ...             0          0   \n",
       "\n",
       "       bin_c1_24  bin_c1_3  bin_c1_4  bin_c1_5  bin_c1_6  bin_c1_7  bin_c1_8  \\\n",
       "6642           0         1         0         0         0         0         0   \n",
       "54536          0         0         0         0         0         0         0   \n",
       "8242           0         0         0         0         0         0         0   \n",
       "45838          0         0         0         0         0         0         1   \n",
       "41022          0         0         0         0         0         0         1   \n",
       "\n",
       "       bin_c1_9  \n",
       "6642          0  \n",
       "54536         0  \n",
       "8242          0  \n",
       "45838         0  \n",
       "41022         0  \n",
       "\n",
       "[5 rows x 24 columns]"
      ]
     },
     "execution_count": 4,
     "metadata": {},
     "output_type": "execute_result"
    }
   ],
   "source": [
    "training_data[['c1']+binary_features].head(5)"
   ]
  },
  {
   "cell_type": "code",
   "execution_count": 5,
   "metadata": {
    "collapsed": false,
    "scrolled": false
   },
   "outputs": [
    {
     "data": {
      "image/png": "[encoded data removed]",
      "text/plain": [
       "<matplotlib.figure.Figure at 0x1146b4b90>"
      ]
     },
     "metadata": {},
     "output_type": "display_data"
    }
   ],
   "source": [
    "#PCA\n",
    "\n",
    "from sklearn import preprocessing\n",
    "from sklearn.preprocessing import scale\n",
    "from sklearn.decomposition import PCA\n",
    "import math\n",
    "\n",
    "variance_cutoff = 0.90\n",
    "\n",
    "#scaled_features:\n",
    "scaled_features = map(lambda f: 'scaled_'+f, quant_features)\n",
    "\n",
    "#centering and scaling\n",
    "for f in scaled_features:\n",
    "    training_data[f] = 0\n",
    "training_data[scaled_features] = training_data.loc[:,quant_features].apply(lambda x: (x-np.mean(x))/np.std(x), axis=1)\n",
    "\n",
    "#PCA\n",
    "pca_ = PCA()\n",
    "pca_.fit(training_data.loc[:,scaled_features])\n",
    "principal_components_features = map(lambda t: t[0]+str(t[1]), zip([\"PC_\"]*len(scaled_features), range(1,len(scaled_features)+1)))\n",
    "for f in principal_components_features:\n",
    "    training_data[f] = 0\n",
    "training_data.loc[:,principal_components_features] = pca_.transform(training_data[scaled_features])\n",
    "\n",
    "l_principal_components = np.argmax(np.cumsum(np.array(pca_.explained_variance_ratio_))>variance_cutoff)\n",
    "principal_components_features = principal_components_features[0:l_principal_components]\n",
    "\n",
    "plt.figure(figsize=(20,10))\n",
    "for i in range(0,l_principal_components):\n",
    "    ax = plt.subplot(math.ceil(math.sqrt(l_principal_components)), math.ceil(math.sqrt(l_principal_components)), i+1)\n",
    "    bins = np.linspace(np.min(training_data.loc[:,principal_components_features[i]]), np.max(training_data.loc[:,principal_components_features[i]]), 100)\n",
    "    ax.hist(training_data.ix[training_data.loc[:,'target']==0,principal_components_features[i]].tolist(), bins, alpha=0.5, label='0')\n",
    "    ax.hist(training_data.ix[training_data.loc[:,'target']==1,principal_components_features[i]].tolist(), bins, alpha=0.5, label='1')\n",
    "    ax.legend(loc='upper right')\n",
    "\n",
    "plt.show()"
   ]
  },
  {
   "cell_type": "code",
   "execution_count": 6,
   "metadata": {
    "collapsed": false,
    "scrolled": true
   },
   "outputs": [
    {
     "name": "stdout",
     "output_type": "stream",
     "text": [
      "in sample score: 0.525482625483, out of sample score: 0.523506597532\n"
     ]
    },
    {
     "name": "stderr",
     "output_type": "stream",
     "text": [
      "/Library/Frameworks/Python.framework/Versions/2.7/lib/python2.7/site-packages/sklearn/lda.py:4: DeprecationWarning: lda.LDA has been moved to discriminant_analysis.LinearDiscriminantAnalysis in 0.17 and will be removed in 0.19\n",
      "  \"in 0.17 and will be removed in 0.19\", DeprecationWarning)\n",
      "/Library/Frameworks/Python.framework/Versions/2.7/lib/python2.7/site-packages/sklearn/discriminant_analysis.py:431: DeprecationWarning: The parameter 'store_covariance' is deprecated as of version 0.17 and will be removed in 0.19. The parameter is no longer necessary because the value is set via the estimator initialisation or set_params method.\n",
      "  \"set_params method.\", DeprecationWarning)\n"
     ]
    },
    {
     "data": {
      "image/png": "[encoded data removed]",
      "text/plain": [
       "<matplotlib.figure.Figure at 0x10d145d10>"
      ]
     },
     "metadata": {},
     "output_type": "display_data"
    }
   ],
   "source": [
    "#LDA Projection on the vector of the 2 centroids + cv of LDA\n",
    "\n",
    "from sklearn.lda import LDA\n",
    "from sklearn.cross_validation import cross_val_score\n",
    "\n",
    "LDA_features=quant_features\n",
    "\n",
    "clf = sklearn.lda.LDA()\n",
    "clf.fit(training_data[LDA_features], training_data['target'],store_covariance=True)\n",
    "IS_score = clf.score(training_data[LDA_features], training_data['target'])\n",
    "CV_score = np.mean(cross_val_score(clf, training_data[LDA_features], training_data['target'], cv=10))\n",
    "\n",
    "print \"in sample score: %s, out of sample score: %s\" %(IS_score,CV_score)\n",
    "\n",
    "training_data['lda_dir1'] = clf.transform(training_data[LDA_features])\n",
    "\n",
    "lda_components = ['lda_dir1']\n",
    "\n",
    "ax = plt.subplot(1,1,1)\n",
    "bins = np.linspace(np.min(training_data.loc[:,'lda_dir1']), np.max(training_data.loc[:,'lda_dir1']), 100)\n",
    "ax.hist(training_data.ix[training_data.loc[:,'target']==0,'lda_dir1'].tolist(), bins, alpha=0.5, label='0')\n",
    "ax.hist(training_data.ix[training_data.loc[:,'target']==1,'lda_dir1'].tolist(), bins, alpha=0.5, label='1')\n",
    "plt.show()\n",
    "\n"
   ]
  },
  {
   "cell_type": "code",
   "execution_count": 7,
   "metadata": {
    "collapsed": false,
    "scrolled": true
   },
   "outputs": [
    {
     "name": "stdout",
     "output_type": "stream",
     "text": [
      "decision features:\n",
      "\n",
      "['f1', 'f2', 'f3', 'f4', 'f5', 'f6', 'f7', 'f8', 'f9', 'f10', 'f11', 'f12', 'f13', 'f14', 'bin_c1_1', 'bin_c1_10', 'bin_c1_11', 'bin_c1_12', 'bin_c1_13', 'bin_c1_14', 'bin_c1_15', 'bin_c1_16', 'bin_c1_17', 'bin_c1_18', 'bin_c1_19', 'bin_c1_20', 'bin_c1_21', 'bin_c1_22', 'bin_c1_23', 'bin_c1_24', 'bin_c1_3', 'bin_c1_4', 'bin_c1_5', 'bin_c1_6', 'bin_c1_7', 'bin_c1_8', 'bin_c1_9']\n",
      "       training_score  validation_score\n",
      "depth                                  \n",
      "1            0.521077          0.516239\n",
      "2            0.524710          0.517988\n",
      "3            0.526686          0.520895\n",
      "4            0.533841          0.520486\n",
      "5            0.537838          0.520259\n",
      "6            0.542199          0.519214\n",
      "7            0.547581          0.516443\n",
      "8            0.554781          0.519237\n",
      "9            0.563389          0.517806\n",
      "10           0.574972          0.516920\n",
      "11           0.585851          0.518373\n",
      "12           0.602725          0.518692\n",
      "13           0.623121          0.515626\n",
      "14           0.643266          0.515035\n",
      "15           0.663252          0.511265\n",
      "16           0.688326          0.511878\n",
      "17           0.712946          0.511378\n",
      "18           0.740631          0.513559\n",
      "19           0.766432          0.512991\n",
      "20           0.793232          0.511038\n",
      "21           0.817375          0.510447\n",
      "22           0.841699          0.508721\n",
      "23           0.863638          0.508971\n",
      "24           0.882694          0.509062\n",
      "25           0.898592          0.508744\n",
      "26           0.913968          0.508812\n",
      "27           0.927027          0.510129\n",
      "28           0.939155          0.506791\n",
      "29           0.947808          0.507404\n"
     ]
    },
    {
     "data": {
      "image/png": "[encoded data removed]",
      "text/plain": [
       "<matplotlib.figure.Figure at 0x110f72e90>"
      ]
     },
     "metadata": {},
     "output_type": "display_data"
    }
   ],
   "source": [
    "#decision tree\n",
    "\n",
    "#classification score with a single regression tree\n",
    "\n",
    "from sklearn import tree\n",
    "from sklearn.cross_validation import cross_val_score\n",
    "\n",
    "decision_features = quant_features+binary_features#principal_components_features#+binary_features\n",
    "\n",
    "print 'decision features:\\n' \n",
    "print decision_features\n",
    "\n",
    "max_depths = range(1,30)\n",
    "def cv_score(depth, printTree=False):\n",
    "    clf = tree.DecisionTreeClassifier(max_depth=depth)\n",
    "    clf.fit(training_data[decision_features], training_data[\"target\"])\n",
    "    s = clf.score(training_data[decision_features], training_data[\"target\"])\n",
    "    m = np.mean(cross_val_score(clf, training_data[decision_features], training_data[\"target\"], cv=5))\n",
    "    dat = np.array([depth, s, m])\n",
    "    if printTree:\n",
    "        with open('./ClassificationTrees/singleClassifTreeWithDepth'+str(depth)+'.dot', 'w') as my_file:\n",
    "            my_file = tree.export_graphviz(clf, out_file = my_file)\n",
    "    return pd.DataFrame([dat],columns=['depth','training_score', 'validation_score'])\n",
    "\n",
    "single_classif_tree_scores = pd.concat(map(lambda d: cv_score(d, True), max_depths))\n",
    "single_classif_tree_scores.index = single_classif_tree_scores['depth']\n",
    "single_classif_tree_scores.drop('depth',axis=1, inplace=True)\n",
    "\n",
    "single_classif_tree_scores.plot(legend=True, grid=True)\n",
    "print single_classif_tree_scores\n",
    "\n",
    "#decision tree classifier:\n",
    "best_depth = 3\n",
    "decision_tree_classifier = tree.DecisionTreeClassifier(max_depth=best_depth)\n",
    "\n"
   ]
  },
  {
   "cell_type": "code",
   "execution_count": 11,
   "metadata": {
    "collapsed": false,
    "scrolled": false
   },
   "outputs": [
    {
     "name": "stdout",
     "output_type": "stream",
     "text": [
      "OS: \n",
      "[[ 0.5147172   0.51167372  0.516421    0.51587555  0.51480829  0.51619344\n",
      "   0.51217377]\n",
      " [ 0.51687509  0.52239395  0.51935022  0.51930519  0.51757917  0.51653416\n",
      "   0.51480781]\n",
      " [ 0.52355225  0.52352936  0.52502872  0.52184909  0.51894179  0.51426301\n",
      "   0.51439918]\n",
      " [ 0.52053171  0.52371123  0.52593723  0.52491477  0.52094052  0.52389307\n",
      "   0.51689742]\n",
      " [ 0.52200789  0.52532392  0.52541455  0.5233024   0.52407443  0.52384744\n",
      "   0.52207575]\n",
      " [ 0.52146285  0.52523301  0.52518759  0.52652751  0.52346142  0.52384741\n",
      "   0.52232575]\n",
      " [ 0.52164455  0.52586892  0.52630043  0.5264822   0.52514212  0.52555087\n",
      "   0.52477848]\n",
      " [ 0.5220306   0.52573262  0.52550547  0.52543737  0.52466508  0.52505129\n",
      "   0.52471042]]\n"
     ]
    }
   ],
   "source": [
    "# Ensemble of trees: ADABOOST\n",
    "from sklearn.ensemble import AdaBoostClassifier\n",
    "from sklearn.ensemble import RandomForestClassifier\n",
    "\n",
    "decision_features = quant_features+binary_features\n",
    "\n",
    "n_trees = map(lambda x:int(math.ceil(x)), np.exp(np.arange(0.0, 4.0,.50)*math.log(10)).tolist())\n",
    "depths = range(1,15,2)\n",
    "OS = np.zeros([len(n_trees), len(depths)])\n",
    "\n",
    "def get_cv_score(n_trees, depth):\n",
    "    clf = sklearn.ensemble.RandomForestClassifier(n_estimators = n_trees, max_depth = depth)\n",
    "    return np.mean(cross_val_score(clf, training_data[decision_features], training_data[\"target\"], cv=5))\n",
    "\n",
    "for i in range(OS.shape[0]):\n",
    "    OS[i,:] = map(lambda d: get_cv_score(n_trees[i], d), depths)\n",
    "\n",
    "OS = pd.DatFrame(OS, columns=depths)\n",
    "OS.index = n_trees\n",
    "    \n",
    "print \"OS: \"\n",
    "print OS\n",
    "\n",
    "#TO DO: try the same with ADABOOST\n",
    "\n",
    "forest_classifier = sklearn.ensemble.RandomForestClassifier(n_estimators = 400, max_depth = 7)"
   ]
  },
  {
   "cell_type": "code",
   "execution_count": 20,
   "metadata": {
    "collapsed": false
   },
   "outputs": [
    {
     "name": "stdout",
     "output_type": "stream",
     "text": [
      "in sample score: 0.524415171474, out of sample score: 0.524052165259\n"
     ]
    }
   ],
   "source": [
    "# Naive Bayes Gaussian\n",
    "\n",
    "from sklearn.naive_bayes import GaussianNB\n",
    "from sklearn.cross_validation import cross_val_score\n",
    "\n",
    "nb_gaussian_features = quant_features+binary_features#principal_components_features\n",
    "\n",
    "nb_gaussian_classifier = GaussianNB()\n",
    "nb_gaussian_classifier.fit(training_data[nb_gaussian_features], training_data[\"target\"])\n",
    "s = nb_gaussian_classifier.score(training_data[nb_gaussian_features], training_data[\"target\"])\n",
    "m = np.mean(cross_val_score(nb_gaussian_classifier, training_data[nb_gaussian_features], training_data[\"target\"], cv=10))\n",
    "print \"in sample score: %s, out of sample score: %s\" %(s,m)\n",
    "\n",
    "\n",
    "# naive bayes gaussian classifier\n",
    "# nb_gaussian_classifier\n",
    "nb_gaussian_classifier = GaussianNB()"
   ]
  },
  {
   "cell_type": "code",
   "execution_count": 15,
   "metadata": {
    "collapsed": false,
    "scrolled": true
   },
   "outputs": [
    {
     "name": "stdout",
     "output_type": "stream",
     "text": [
      "            C        IS        OS\n",
      "0    0.010000  0.528276  0.523552\n",
      "0    0.017783  0.527777  0.524233\n",
      "0    0.031623  0.528004  0.524415\n",
      "0    0.056234  0.528004  0.524279\n",
      "0    0.100000  0.528299  0.524688\n",
      "0    0.177828  0.528004  0.524824\n",
      "0    0.316228  0.527867  0.524778\n",
      "0    0.562341  0.527913  0.525006\n",
      "0    1.000000  0.527890  0.525074\n",
      "0    1.778279  0.527867  0.525074\n",
      "0    3.162278  0.527799  0.525028\n",
      "0    5.623413  0.527777  0.524983\n",
      "0   10.000000  0.527799  0.524960\n",
      "0   17.782794  0.527799  0.524960\n",
      "0   31.622777  0.527799  0.524960\n",
      "0   56.234133  0.527799  0.524937\n",
      "0  100.000000  0.527822  0.524915\n",
      "0  177.827941  0.527845  0.524915\n",
      "0  316.227766  0.527845  0.524915\n",
      "0  562.341325  0.527845  0.524915\n"
     ]
    },
    {
     "data": {
      "image/png": "[encoded data removed]",
      "text/plain": [
       "<matplotlib.figure.Figure at 0x10d04a710>"
      ]
     },
     "metadata": {},
     "output_type": "display_data"
    }
   ],
   "source": [
    "#Logistic regression\n",
    "\n",
    "from sklearn.cross_validation import cross_val_score\n",
    "import math\n",
    "\n",
    "params = np.exp(np.arange(-2.0, 3.0,.25)*math.log(10))\n",
    "log_reg_features = principal_components_features+binary_features\n",
    "\n",
    "def apply_param(p):\n",
    "    lreg_model = sklearn.linear_model.LogisticRegression(C=p)\n",
    "    lreg_model.fit(training_data[log_reg_features], training_data[\"target\"])\n",
    "    IS = lreg_model.score(training_data[log_reg_features], training_data[\"target\"])\n",
    "    OS = np.mean(cross_val_score(lreg_model, training_data[log_reg_features], training_data[\"target\"], cv=10))\n",
    "    return pd.DataFrame([np.array([p, IS, OS])], columns=['C', 'IS', 'OS']) \n",
    "\n",
    "scores = pd.concat(map(apply_param, params))\n",
    "scores.plot(x='C',logx=True)\n",
    "print scores\n",
    "\n",
    "#log reg classifier\n",
    "best_p = 1.0\n",
    "lreg_classifier = sklearn.linear_model.LogisticRegression(C=best_p)\n"
   ]
  },
  {
   "cell_type": "code",
   "execution_count": 16,
   "metadata": {
    "collapsed": false,
    "scrolled": true
   },
   "outputs": [
    {
     "name": "stdout",
     "output_type": "stream",
     "text": [
      "['lda_dir1']\n",
      "             training_score  validation_score\n",
      "n_neighbors                                  \n",
      "11                 0.623620          0.509971\n",
      "18                 0.593913          0.507541\n",
      "32                 0.578174          0.513377\n",
      "57                 0.563093          0.511651\n",
      "101                0.549648          0.515285\n",
      "178                0.542494          0.518419\n",
      "317                0.535930          0.518238\n",
      "563                0.530865          0.517647\n",
      "1001               0.524392          0.521872\n",
      "1779               0.527459          0.523688\n",
      "3163               0.526187          0.526369\n",
      "5624               0.527004          0.526051\n"
     ]
    },
    {
     "data": {
      "image/png": "[encoded data removed]",
      "text/plain": [
       "<matplotlib.figure.Figure at 0x10d415bd0>"
      ]
     },
     "metadata": {},
     "output_type": "display_data"
    }
   ],
   "source": [
    "#k-nn\n",
    "from sklearn.neighbors import KNeighborsClassifier\n",
    "import math\n",
    "\n",
    "n_neighbors = map(lambda x:int(math.ceil(x)), np.exp(np.arange(1.0, 4.0,.25)*math.log(10)).tolist())\n",
    "k_nn_features = lda_components\n",
    "print k_nn_features\n",
    "\n",
    "def cv_score(par):\n",
    "    clf = KNeighborsClassifier(n_neighbors=par)\n",
    "    clf.fit(training_data[k_nn_features], training_data[\"target\"])\n",
    "    s = clf.score(training_data[k_nn_features], training_data[\"target\"])\n",
    "    m = np.mean(cross_val_score(clf, training_data[k_nn_features], training_data[\"target\"], cv=5))\n",
    "    dat = np.array([par, s, m])\n",
    "    return pd.DataFrame([dat],columns=['n_neighbors','training_score', 'validation_score'])\n",
    "\n",
    "k_nn_scores = pd.concat(map(cv_score, n_neighbors))\n",
    "k_nn_scores.index = k_nn_scores['n_neighbors']\n",
    "k_nn_scores.drop('n_neighbors',axis=1, inplace=True)\n",
    "\n",
    "print k_nn_scores\n",
    "k_nn_scores.plot(legend=True, grid=True)\n",
    "\n",
    "\n",
    "#k-nn classifier\n",
    "best_nn = 3000\n",
    "k_nn_classifier = KNeighborsClassifier(best_nn)\n",
    "\n"
   ]
  },
  {
   "cell_type": "code",
   "execution_count": 17,
   "metadata": {
    "collapsed": false
   },
   "outputs": [],
   "source": [
    "#TO DO: \n",
    "#try QDA in case covariance changes | y\n",
    "#try votes of k-nn on each principal component + the LDA axis - first try to figure out if that actually makes sense - does it have a chance to work?\n"
   ]
  },
  {
   "cell_type": "code",
   "execution_count": null,
   "metadata": {
    "collapsed": false
   },
   "outputs": [],
   "source": [
    "#TO DO:\n",
    "#ensemble model of:\n",
    "# - naive bayes gaussian on original data -> global classif, \n",
    "# - 3000-nn on LDA space -> local classif\n",
    "# - random forest -> local classif\n",
    "# logistic regression with all features + c1 binarized or just the LDA components with c1 binarized -> global classif\n",
    "\n",
    "from sklearn.ensemble import VotingClassifier\n",
    "from sklearn import cross_validation\n",
    "\n",
    "ensemble_classifiers = [nb_gaussian_classifier, k_nn_classifier, lreg_classifier, forest_classifier]\n",
    "\n",
    "# Training classifiers\n",
    "ensemble_classifier = VotingClassifier(estimators=[('nbg', nb_gaussian_classifier), ('knn', k_nn_classifier), \n",
    "                                                   ('lreg', lreg_classifier), ('forest', forest_classifier)],\n",
    "                        voting='soft')\n",
    "\n",
    "ensemble_classifier = ensemble_classifier.fit(training_data[quant_features+lda_components+principal_components_features+binary_features],training_data['target'])\n",
    "\n",
    "for clf, label in zip([nb_gaussian_classifier, k_nn_classifier, lreg_classifier, forest_classifier, ensemble_classifier], [\n",
    "        'Naive Bayes Gaussian', 'K-nn + LDA', 'logistic regression', 'Forest', 'Ensemble']):\n",
    "    scores = cross_validation.cross_val_score(clf, training_data[\n",
    "            quant_features+lda_components+principal_components_features+binary_features],training_data['target'], cv=5, scoring='accuracy')\n",
    "    print(\"Accuracy: %0.4f (+/- %0.4f) [%s]\" % (scores.mean(), scores.std(), label))\n",
    "\n",
    "#predict probas, scale to [0;1] and combine them: majority vote (average of the majority), or average of probas\n",
    "\n",
    "#Out of sample:\n",
    "# 1. project new observations to the LDA space\n",
    "# 2. estimate the probabilities from the three classifiers\n",
    "# 3. combine them\n",
    "# 4. make predictions\n",
    "\n"
   ]
  },
  {
   "cell_type": "code",
   "execution_count": 24,
   "metadata": {
    "collapsed": false
   },
   "outputs": [
    {
     "name": "stdout",
     "output_type": "stream",
     "text": [
      "[[ 1.          0.61538028  0.6181035   0.67209509]\n",
      " [ 0.61538028  1.          0.54967293  0.66537291]\n",
      " [ 0.6181035   0.54967293  1.          0.58046436]\n",
      " [ 0.67209509  0.66537291  0.58046436  1.        ]]\n"
     ]
    }
   ],
   "source": [
    "# correlation between classifiers:\n",
    "import numpy as np\n",
    "\n",
    "classifiers = [nb_gaussian_classifier, k_nn_classifier, lreg_classifier, forest_classifier]\n",
    "\n",
    "for clf in classifiers:\n",
    "    clf.fit(training_data[quant_features+lda_components+principal_components_features+binary_features], training_data[\"target\"])\n",
    "\n",
    "probas = np.zeros(shape=[training_data.shape[0],len(classifiers)])\n",
    "predictions = np.zeros(shape=[training_data.shape[0],len(classifiers)])\n",
    "for i in range(len(classifiers)):\n",
    "    #probas[:,i] = classifiers[i].predict_proba(\n",
    "    #    training_data[quant_features+lda_components+principal_components_features+binary_features])[:,1]\n",
    "    predictions[:,i] = classifiers[i].predict(\n",
    "        training_data[quant_features+lda_components+principal_components_features+binary_features])\n",
    "\n",
    "\n",
    "print np.corrcoef(np.transpose(predictions))\n",
    "#Strong correlation between classifiers = BAD -> probably why the ensemble model isn't better. \n",
    "#Essentially the ensemble fails to reduce bias\n"
   ]
  },
  {
   "cell_type": "code",
   "execution_count": null,
   "metadata": {
    "collapsed": true
   },
   "outputs": [],
   "source": []
  }
 ],
 "metadata": {
  "kernelspec": {
   "display_name": "Python 2",
   "language": "python",
   "name": "python2"
  },
  "language_info": {
   "codemirror_mode": {
    "name": "ipython",
    "version": 2
   },
   "file_extension": ".py",
   "mimetype": "text/x-python",
   "name": "python",
   "nbconvert_exporter": "python",
   "pygments_lexer": "ipython2",
   "version": "2.7.11"
  }
 },
 "nbformat": 4,
 "nbformat_minor": 0
}
