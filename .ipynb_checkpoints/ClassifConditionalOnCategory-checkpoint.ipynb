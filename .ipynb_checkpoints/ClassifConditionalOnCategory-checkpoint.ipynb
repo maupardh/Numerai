{
 "cells": [
  {
   "cell_type": "code",
   "execution_count": 1,
   "metadata": {
    "collapsed": true
   },
   "outputs": [],
   "source": [
    "### summary: TOP SCORES: \n",
    "#52.5% with gaussian naive bayes\n",
    "#52.5% with k-nn with ~200 neighbors\n",
    "#52.5% with logistic regression and C~1e-2\n",
    "#52% with a 2 depth decision tree\n",
    "#always going for 1 -> 51%\n",
    "\n",
    "import pandas as pd\n",
    "import numpy as np\n",
    "import matplotlib\n",
    "import matplotlib.pyplot as plt\n",
    "import sklearn\n",
    "from sklearn import linear_model\n",
    "matplotlib.style.use('ggplot')\n",
    "%matplotlib inline\n"
   ]
  },
  {
   "cell_type": "code",
   "execution_count": 2,
   "metadata": {
    "collapsed": false,
    "scrolled": true
   },
   "outputs": [
    {
     "name": "stdout",
     "output_type": "stream",
     "text": [
      "          f1         f2         f3         f4         f5         f6  \\\n",
      "0  134182390   97300587  135824563   90767607   87687197   65148427   \n",
      "1   76630357  132348601   78121737  102794263  120848626  128752983   \n",
      "2  111610401  132186734   83887688  120772423  133722193  100560251   \n",
      "3   72896251  113365043   72912608  126007508  127949612   74975809   \n",
      "4  113253706   96665624   89391907   77862818   91855586  100094204   \n",
      "5  122837395   71633727  125829672   73401946   66388998   71572170   \n",
      "6  116917069   97255589  109352915   77622874   76834712   84847106   \n",
      "7  108136714  110264481   99080283   95949194  108265520  100203479   \n",
      "8  116917069  127552518  124961581  102269449  107669715   84416921   \n",
      "9  107480622   91552319   78127446   84411308   98566229   84213901   \n",
      "\n",
      "          f7         f8         f9        f10        f11        f12  \\\n",
      "0  109834029  131613166  135533479   92106582   98111205   87052852   \n",
      "1   71827456   95945691   98115812  135285479  137364637  130062214   \n",
      "2   69916843  100459177   80742177  134884316  129775817  131335813   \n",
      "3   87833921   68438705   76021871  116126096  118784024  112328751   \n",
      "4  116150057  114434231   98567673   86510339   81789481   87618174   \n",
      "5  127205376  124325380  104335962   68026428   69731113   70653896   \n",
      "6  116720372  120128868   98586919   76939463   75347200   93515529   \n",
      "7  104021088  101739485   91078332  126031517  104474714   98910168   \n",
      "8   88968673  114590554  121720124  130416696  131364184  118360883   \n",
      "9  105476989  113393292   75566731   92050090   95027592   82906635   \n",
      "\n",
      "         f13        f14     c1  validation  target  \n",
      "0   66216076  121781929  c1_23           0       1  \n",
      "1  114819524   76635306   c1_3           1       1  \n",
      "2   89200467   77712207  c1_20           0       0  \n",
      "3   83538128   92643596   c1_3           0       1  \n",
      "4   95158324  124902005   c1_5           0       0  \n",
      "5   84017268  130817902  c1_14           0       1  \n",
      "6  104112136  121666795  c1_10           0       1  \n",
      "7   89391293   81383412  c1_16           1       1  \n",
      "8  104071525   85466444   c1_1           0       0  \n",
      "9   83779072  111725132  c1_15           0       0  \n",
      "\n",
      "\n",
      "\n",
      "Size of datasets: total - 55038, train - 44030, test - 11008, intersect: 0\n"
     ]
    }
   ],
   "source": [
    "numerai_data = pd.read_csv(\"../numerai_datasets/numerai_training_data.csv\")\n",
    "print numerai_data.head(10)\n",
    "\n",
    "#separating train and test\n",
    "frac_for_training = 0.80\n",
    "training_data = numerai_data.sample(frac=frac_for_training)\n",
    "validation_data = numerai_data.drop(training_data.index)\n",
    "check = pd.merge(training_data, validation_data, how='inner')\n",
    "\n",
    "training_data.drop('validation', axis=1, inplace=True)\n",
    "validation_data.drop('validation', axis=1, inplace=True)\n",
    "\n",
    "print('\\n\\n\\nSize of datasets: total - %s, train - %s, test - %s, intersect: %s' %(\n",
    "        numerai_data.shape[0], training_data.shape[0], validation_data.shape[0], check.shape[0]))"
   ]
  },
  {
   "cell_type": "code",
   "execution_count": 3,
   "metadata": {
    "collapsed": false
   },
   "outputs": [],
   "source": [
    "#binarizing c1:\n",
    "\n",
    "categories = list(set(list(training_data['c1'])))\n",
    "\n",
    "for cat in categories:\n",
    "    training_data[cat] = training_data['c1']==cat\n",
    "\n",
    "features = list(set(training_data.columns).difference({'target', 'validation','c1'}))"
   ]
  },
  {
   "cell_type": "code",
   "execution_count": 4,
   "metadata": {
    "collapsed": false
   },
   "outputs": [
    {
     "name": "stdout",
     "output_type": "stream",
     "text": [
      "['f1', 'f2', 'f3', 'f4', 'f5', 'f6', 'f7', 'f8', 'f9', 'c1_20', 'c1_21', 'c1_22', 'c1_23', 'c1_24', 'f12', 'f13', 'c1_19', 'c1_18', 'c1_11', 'c1_10', 'c1_13', 'c1_12', 'c1_15', 'c1_14', 'c1_17', 'c1_16', 'c1_1', 'c1_3', 'c1_5', 'c1_4', 'c1_7', 'c1_6', 'c1_9', 'c1_8', 'f10', 'f11', 'f14']\n"
     ]
    }
   ],
   "source": [
    "print features"
   ]
  },
  {
   "cell_type": "code",
   "execution_count": 15,
   "metadata": {
    "collapsed": false
   },
   "outputs": [
    {
     "name": "stdout",
     "output_type": "stream",
     "text": [
      "['f1', 'f2', 'f3', 'f4', 'f5', 'f6', 'f7', 'f8', 'f9', 'c1_20', 'c1_21', 'c1_22', 'c1_23', 'c1_24', 'f12', 'f13', 'c1_19', 'c1_18', 'c1_11', 'c1_10', 'c1_13', 'c1_12', 'c1_15', 'c1_14', 'c1_17', 'c1_16', 'c1_1', 'c1_3', 'c1_5', 'c1_4', 'c1_7', 'c1_6', 'c1_9', 'c1_8', 'f10', 'f11', 'f14']\n"
     ]
    },
    {
     "data": {
      "text/plain": [
       "<matplotlib.axes._subplots.AxesSubplot at 0x10ca36590>"
      ]
     },
     "execution_count": 15,
     "metadata": {},
     "output_type": "execute_result"
    },
    {
     "data": {
      "image/png": "[encoded data removed]",
      "text/plain": [
       "<matplotlib.figure.Figure at 0x10c7a8110>"
      ]
     },
     "metadata": {},
     "output_type": "display_data"
    }
   ],
   "source": [
    "#Logistic regression\n",
    "\n",
    "from sklearn.naive_bayes import GaussianNB\n",
    "from sklearn.cross_validation import cross_val_score\n",
    "from sklearn import preprocessing\n",
    "import math\n",
    "\n",
    "params = np.exp(np.arange(-5.0, 5.0,.5)*math.log(10))\n",
    "#features = features[0:(1+np.argmax(np.cumsum(np.array(pca_.explained_variance_ratio_))>variance_cutoff))]#REDUCE FEATURES\n",
    "print features\n",
    "\n",
    "logistic_reg_training_data = training_data.copy()\n",
    "#features = [f for f in set(logistic_reg_training_data.columns) if f.startswith(\"f\")]\n",
    "minmax_scale = preprocessing.MinMaxScaler().fit(logistic_reg_training_data[features])\n",
    "logistic_reg_training_data[features] = minmax_scale.transform(logistic_reg_training_data[features])\n",
    "\n",
    "def apply_param(p):\n",
    "    lreg_model = sklearn.linear_model.LogisticRegression(C=p)\n",
    "    lreg_model.fit(logistic_reg_training_data[features], logistic_reg_training_data[\"target\"])\n",
    "    IS = lreg_model.score(logistic_reg_training_data[features], logistic_reg_training_data[\"target\"])\n",
    "    OS = np.mean(cross_val_score(lreg_model, logistic_reg_training_data[features], logistic_reg_training_data[\"target\"], cv=10))\n",
    "    return pd.DataFrame([np.array([p, IS, OS])], columns=['C', 'IS', 'OS']) \n",
    "\n",
    "scores = pd.concat(map(apply_param, params))\n",
    "scores.plot(x='C',logx=True)\n",
    "\n",
    "\n",
    "\n"
   ]
  },
  {
   "cell_type": "code",
   "execution_count": 12,
   "metadata": {
    "collapsed": false
   },
   "outputs": [
    {
     "name": "stdout",
     "output_type": "stream",
     "text": [
      "0.517624347036\n"
     ]
    }
   ],
   "source": [
    "from sklearn.naive_bayes import GaussianNB\n",
    "from sklearn.cross_validation import cross_val_score\n",
    "from sklearn.decomposition import PCA\n",
    "from sklearn.preprocessing import scale\n",
    "\n",
    "in_sample_scores_per_category = dict()\n",
    "variance_cutoff = 0.90\n",
    "\n",
    "basis_quant_features = [f for f in set(training_data.columns) if f.startswith(\"f\")]\n",
    "categories = list(set(list(training_data['c1'])))\n",
    "\n",
    "def classify(cat):\n",
    "    training_data_scaled = training_data[training_data['c1']==cat].copy(deep=True)\n",
    "    quant_features = []\n",
    "    \n",
    "    for f in basis_quant_features:\n",
    "        if (len(list(set(list(training_data[[f]]))))>1):\n",
    "            quant_features = quant_features + [f]\n",
    "    \n",
    "    if (len(quant_features)==0):\n",
    "        highest_target = 1 if sum(map(int,list(training_data_scaled['target']==1)))*2>training_data_scaled.shape[0] else 0\n",
    "        preds = [highest_target]*training_data_scaled.shape[0]\n",
    "        actuals = list(training_data_scaled[\"target\"])\n",
    "        return (len([pred for (pred, actual) in zip(preds, actuals) if pred==actual]),len(actuals))\n",
    "    \n",
    "    training_data_scaled[quant_features] = scale(training_data_scaled[quant_features], axis=0, with_mean=True, with_std=True, copy=True)\n",
    "    #ca_ = PCA()\n",
    "    #ca_.fit(training_data_scaled[quant_features])\n",
    "    training_data_pcaed = training_data_scaled.copy(deep=True)\n",
    "    #training_data_pcaed[quant_features] = pca_.transform(training_data_scaled[quant_features])\n",
    "    features = quant_features#[0:(1+np.argmax(np.cumsum(np.array(pca_.explained_variance_ratio_))>variance_cutoff))]#REDUCE FEATURES\n",
    "    clf = GaussianNB()\n",
    "    clf.fit(training_data_pcaed[features], training_data_pcaed[\"target\"])\n",
    "    preds = clf.predict(training_data_pcaed[features], training_data_pcaed[\"target\"])\n",
    "    actuals = list(training_data_pcaed[\"target\"])\n",
    "    return (len([pred for (pred, actual) in zip(preds, actuals) if pred==actual]),len(actuals))\n",
    "\n",
    "couples = map(classify, categories)\n",
    "score = sum([acc for (acc, wrong) in couples])/float(sum([wrong for (acc, wrong) in couples]))\n",
    "print score\n"
   ]
  },
  {
   "cell_type": "code",
   "execution_count": 5,
   "metadata": {
    "collapsed": false
   },
   "outputs": [
    {
     "data": {
      "text/html": [
       "<div>\n",
       "<table border=\"1\" class=\"dataframe\">\n",
       "  <thead>\n",
       "    <tr style=\"text-align: right;\">\n",
       "      <th></th>\n",
       "      <th>f1</th>\n",
       "      <th>f2</th>\n",
       "      <th>f3</th>\n",
       "      <th>f4</th>\n",
       "      <th>f5</th>\n",
       "      <th>f6</th>\n",
       "      <th>f7</th>\n",
       "      <th>f8</th>\n",
       "      <th>f9</th>\n",
       "      <th>f10</th>\n",
       "      <th>f11</th>\n",
       "      <th>f12</th>\n",
       "      <th>f13</th>\n",
       "      <th>f14</th>\n",
       "      <th>c1</th>\n",
       "      <th>target</th>\n",
       "    </tr>\n",
       "  </thead>\n",
       "  <tbody>\n",
       "    <tr>\n",
       "      <th>4638</th>\n",
       "      <td>111706861</td>\n",
       "      <td>97524668</td>\n",
       "      <td>100942558</td>\n",
       "      <td>83427635</td>\n",
       "      <td>88611659</td>\n",
       "      <td>128978979</td>\n",
       "      <td>109996625</td>\n",
       "      <td>113772377</td>\n",
       "      <td>99126300</td>\n",
       "      <td>125333925</td>\n",
       "      <td>110368997</td>\n",
       "      <td>84495298</td>\n",
       "      <td>121133085</td>\n",
       "      <td>120923143</td>\n",
       "      <td>c1_15</td>\n",
       "      <td>0</td>\n",
       "    </tr>\n",
       "    <tr>\n",
       "      <th>54346</th>\n",
       "      <td>87097384</td>\n",
       "      <td>76152872</td>\n",
       "      <td>131480217</td>\n",
       "      <td>120541721</td>\n",
       "      <td>115601609</td>\n",
       "      <td>106927787</td>\n",
       "      <td>117171649</td>\n",
       "      <td>76311684</td>\n",
       "      <td>127823942</td>\n",
       "      <td>85983471</td>\n",
       "      <td>99821164</td>\n",
       "      <td>82904416</td>\n",
       "      <td>110366500</td>\n",
       "      <td>126933296</td>\n",
       "      <td>c1_8</td>\n",
       "      <td>0</td>\n",
       "    </tr>\n",
       "    <tr>\n",
       "      <th>31441</th>\n",
       "      <td>91815938</td>\n",
       "      <td>132125202</td>\n",
       "      <td>90180833</td>\n",
       "      <td>121530796</td>\n",
       "      <td>127032370</td>\n",
       "      <td>132723848</td>\n",
       "      <td>116930026</td>\n",
       "      <td>75300104</td>\n",
       "      <td>80740446</td>\n",
       "      <td>134761305</td>\n",
       "      <td>126091480</td>\n",
       "      <td>131021720</td>\n",
       "      <td>126161394</td>\n",
       "      <td>97550898</td>\n",
       "      <td>c1_16</td>\n",
       "      <td>0</td>\n",
       "    </tr>\n",
       "    <tr>\n",
       "      <th>49174</th>\n",
       "      <td>77202752</td>\n",
       "      <td>122881414</td>\n",
       "      <td>93857717</td>\n",
       "      <td>115613575</td>\n",
       "      <td>116785152</td>\n",
       "      <td>84771601</td>\n",
       "      <td>89148841</td>\n",
       "      <td>82474870</td>\n",
       "      <td>104341302</td>\n",
       "      <td>126905268</td>\n",
       "      <td>124835040</td>\n",
       "      <td>119004122</td>\n",
       "      <td>84017268</td>\n",
       "      <td>85734274</td>\n",
       "      <td>c1_15</td>\n",
       "      <td>1</td>\n",
       "    </tr>\n",
       "    <tr>\n",
       "      <th>39929</th>\n",
       "      <td>127022191</td>\n",
       "      <td>82462298</td>\n",
       "      <td>94200679</td>\n",
       "      <td>95846281</td>\n",
       "      <td>81297421</td>\n",
       "      <td>67362736</td>\n",
       "      <td>115891543</td>\n",
       "      <td>119642836</td>\n",
       "      <td>102866734</td>\n",
       "      <td>71591637</td>\n",
       "      <td>93693938</td>\n",
       "      <td>83410876</td>\n",
       "      <td>64499996</td>\n",
       "      <td>131881834</td>\n",
       "      <td>c1_20</td>\n",
       "      <td>0</td>\n",
       "    </tr>\n",
       "    <tr>\n",
       "      <th>38046</th>\n",
       "      <td>111936022</td>\n",
       "      <td>127926282</td>\n",
       "      <td>83886096</td>\n",
       "      <td>101326921</td>\n",
       "      <td>98288665</td>\n",
       "      <td>128191095</td>\n",
       "      <td>94700182</td>\n",
       "      <td>113249066</td>\n",
       "      <td>81133688</td>\n",
       "      <td>110100806</td>\n",
       "      <td>104343854</td>\n",
       "      <td>123046799</td>\n",
       "      <td>126489282</td>\n",
       "      <td>86473009</td>\n",
       "      <td>c1_5</td>\n",
       "      <td>1</td>\n",
       "    </tr>\n",
       "    <tr>\n",
       "      <th>36609</th>\n",
       "      <td>129041774</td>\n",
       "      <td>81790922</td>\n",
       "      <td>109352915</td>\n",
       "      <td>91819159</td>\n",
       "      <td>72221729</td>\n",
       "      <td>93979482</td>\n",
       "      <td>98505969</td>\n",
       "      <td>124282338</td>\n",
       "      <td>117457342</td>\n",
       "      <td>80144716</td>\n",
       "      <td>92857890</td>\n",
       "      <td>87314442</td>\n",
       "      <td>108596322</td>\n",
       "      <td>116271528</td>\n",
       "      <td>c1_10</td>\n",
       "      <td>1</td>\n",
       "    </tr>\n",
       "    <tr>\n",
       "      <th>19118</th>\n",
       "      <td>67903419</td>\n",
       "      <td>83231083</td>\n",
       "      <td>88737304</td>\n",
       "      <td>126420783</td>\n",
       "      <td>115736636</td>\n",
       "      <td>83297252</td>\n",
       "      <td>64493688</td>\n",
       "      <td>63728389</td>\n",
       "      <td>96608846</td>\n",
       "      <td>108676491</td>\n",
       "      <td>112070525</td>\n",
       "      <td>71582674</td>\n",
       "      <td>90316707</td>\n",
       "      <td>71350845</td>\n",
       "      <td>c1_10</td>\n",
       "      <td>1</td>\n",
       "    </tr>\n",
       "    <tr>\n",
       "      <th>49141</th>\n",
       "      <td>91760483</td>\n",
       "      <td>92348989</td>\n",
       "      <td>82838859</td>\n",
       "      <td>72089929</td>\n",
       "      <td>76075785</td>\n",
       "      <td>128464586</td>\n",
       "      <td>106168642</td>\n",
       "      <td>89916280</td>\n",
       "      <td>80613601</td>\n",
       "      <td>98304716</td>\n",
       "      <td>99821164</td>\n",
       "      <td>87052852</td>\n",
       "      <td>131170208</td>\n",
       "      <td>107309715</td>\n",
       "      <td>c1_15</td>\n",
       "      <td>0</td>\n",
       "    </tr>\n",
       "    <tr>\n",
       "      <th>23648</th>\n",
       "      <td>111936022</td>\n",
       "      <td>91751182</td>\n",
       "      <td>114090148</td>\n",
       "      <td>70918761</td>\n",
       "      <td>77471548</td>\n",
       "      <td>84609793</td>\n",
       "      <td>70288263</td>\n",
       "      <td>93847599</td>\n",
       "      <td>99020519</td>\n",
       "      <td>77071290</td>\n",
       "      <td>87713797</td>\n",
       "      <td>76546156</td>\n",
       "      <td>85066646</td>\n",
       "      <td>97324209</td>\n",
       "      <td>c1_18</td>\n",
       "      <td>1</td>\n",
       "    </tr>\n",
       "  </tbody>\n",
       "</table>\n",
       "</div>"
      ],
      "text/plain": [
       "              f1         f2         f3         f4         f5         f6  \\\n",
       "4638   111706861   97524668  100942558   83427635   88611659  128978979   \n",
       "54346   87097384   76152872  131480217  120541721  115601609  106927787   \n",
       "31441   91815938  132125202   90180833  121530796  127032370  132723848   \n",
       "49174   77202752  122881414   93857717  115613575  116785152   84771601   \n",
       "39929  127022191   82462298   94200679   95846281   81297421   67362736   \n",
       "38046  111936022  127926282   83886096  101326921   98288665  128191095   \n",
       "36609  129041774   81790922  109352915   91819159   72221729   93979482   \n",
       "19118   67903419   83231083   88737304  126420783  115736636   83297252   \n",
       "49141   91760483   92348989   82838859   72089929   76075785  128464586   \n",
       "23648  111936022   91751182  114090148   70918761   77471548   84609793   \n",
       "\n",
       "              f7         f8         f9        f10        f11        f12  \\\n",
       "4638   109996625  113772377   99126300  125333925  110368997   84495298   \n",
       "54346  117171649   76311684  127823942   85983471   99821164   82904416   \n",
       "31441  116930026   75300104   80740446  134761305  126091480  131021720   \n",
       "49174   89148841   82474870  104341302  126905268  124835040  119004122   \n",
       "39929  115891543  119642836  102866734   71591637   93693938   83410876   \n",
       "38046   94700182  113249066   81133688  110100806  104343854  123046799   \n",
       "36609   98505969  124282338  117457342   80144716   92857890   87314442   \n",
       "19118   64493688   63728389   96608846  108676491  112070525   71582674   \n",
       "49141  106168642   89916280   80613601   98304716   99821164   87052852   \n",
       "23648   70288263   93847599   99020519   77071290   87713797   76546156   \n",
       "\n",
       "             f13        f14     c1  target  \n",
       "4638   121133085  120923143  c1_15       0  \n",
       "54346  110366500  126933296   c1_8       0  \n",
       "31441  126161394   97550898  c1_16       0  \n",
       "49174   84017268   85734274  c1_15       1  \n",
       "39929   64499996  131881834  c1_20       0  \n",
       "38046  126489282   86473009   c1_5       1  \n",
       "36609  108596322  116271528  c1_10       1  \n",
       "19118   90316707   71350845  c1_10       1  \n",
       "49141  131170208  107309715  c1_15       0  \n",
       "23648   85066646   97324209  c1_18       1  "
      ]
     },
     "execution_count": 5,
     "metadata": {},
     "output_type": "execute_result"
    }
   ],
   "source": [
    "training_data.head(10)\n",
    "    "
   ]
  },
  {
   "cell_type": "code",
   "execution_count": 7,
   "metadata": {
    "collapsed": false
   },
   "outputs": [
    {
     "name": "stdout",
     "output_type": "stream",
     "text": [
      "             f1         f2         f3         f4         f5         f6  \\\n",
      "54346  87097384   76152872  131480217  120541721  115601609  106927787   \n",
      "39665  77596276   70385664   68419205  114001857  108336059   91230839   \n",
      "54074  81534662   70458915   83886097   97126503  106781973   67123497   \n",
      "8928   96823999  119410420   89541049  107481006  110887127  128003041   \n",
      "35618  95944958   85784337  114820132   64487433   67372544   83369529   \n",
      "\n",
      "              f7         f8         f9        f10        f11        f12  \\\n",
      "54346  117171649   76311684  127823942   85983471   99821164   82904416   \n",
      "39665  112263611   71595346   69738050   72164700   68445906   71453921   \n",
      "54074   99486844   89132840   91781173  114387991  118059127   84018268   \n",
      "8928    71687119  105513307   99020519  119507876  129630258  112787577   \n",
      "35618  127533369  101228818  115147768   67469630   69522293   72486237   \n",
      "\n",
      "             f13        f14    c1  target  \n",
      "54346  110366500  126933296  c1_8       0  \n",
      "39665   78568461  120094828  c1_8       0  \n",
      "54074   64499996   85077908  c1_8       0  \n",
      "8928   121375387   80807757  c1_8       0  \n",
      "35618   77549534  125960843  c1_8       1  \n"
     ]
    }
   ],
   "source": [
    "cat = 'c1_8'\n",
    "training_data_scaled = training_data[training_data['c1']==cat]\n",
    "print training_data_scaled.head(5)\n",
    "    \n"
   ]
  },
  {
   "cell_type": "code",
   "execution_count": 5,
   "metadata": {
    "collapsed": false
   },
   "outputs": [
    {
     "data": {
      "text/plain": [
       "<matplotlib.axes._subplots.AxesSubplot at 0x10aac3b90>"
      ]
     },
     "execution_count": 5,
     "metadata": {},
     "output_type": "execute_result"
    },
    {
     "data": {
      "image/png": "[encoded data removed]",
      "text/plain": [
       "<matplotlib.figure.Figure at 0x107c4de50>"
      ]
     },
     "metadata": {},
     "output_type": "display_data"
    }
   ],
   "source": [
    "#classification score with a single regression tree conditional on category\n",
    "\n",
    "from sklearn import tree\n",
    "from sklearn.cross_validation import cross_val_score\n",
    "\n",
    "#features = features[0:(1+np.argmax(np.cumsum(np.array(pca_.explained_variance_ratio_))>variance_cutoff))]#REDUCE FEATURES\n",
    "#print features\n",
    "\n",
    "max_depths = range(1,30)\n",
    "def cv_score(depth, printTree=False):\n",
    "    clf = tree.DecisionTreeClassifier(max_depth=depth)\n",
    "    clf.fit(training_data[features], training_data[\"target\"])\n",
    "    s = clf.score(training_data[features], training_data[\"target\"])\n",
    "    m = np.mean(cross_val_score(clf, training_data[features], training_data[\"target\"], cv=5))\n",
    "    dat = np.array([depth, s, m])\n",
    "    if printTree:\n",
    "        with open('./ClassificationTrees/singleClassifTreeWithDepth'+str(depth)+'.dot', 'w') as my_file:\n",
    "            my_file = tree.export_graphviz(clf, out_file = my_file)\n",
    "    return pd.DataFrame([dat],columns=['depth','training_score', 'validation_score'])\n",
    "\n",
    "single_classif_tree_scores = pd.concat(map(lambda d: cv_score(d, True), max_depths))\n",
    "single_classif_tree_scores.index = single_classif_tree_scores['depth']\n",
    "single_classif_tree_scores.drop('depth',axis=1, inplace=True)\n",
    "\n",
    "single_classif_tree_scores.plot(legend=True, grid=True)\n",
    "print single_classif_tree_scores"
   ]
  },
  {
   "cell_type": "code",
   "execution_count": 6,
   "metadata": {
    "collapsed": false
   },
   "outputs": [
    {
     "name": "stdout",
     "output_type": "stream",
     "text": [
      "       training_score  validation_score\n",
      "depth                                  \n",
      "1            0.519782          0.517102\n",
      "2            0.523348          0.519010\n",
      "3            0.526505          0.519669\n",
      "4            0.529230          0.518442\n",
      "5            0.534454          0.517057\n",
      "6            0.538951          0.518783\n",
      "7            0.547445          0.517579\n",
      "8            0.552737          0.517647\n",
      "9            0.563684          0.518283\n",
      "10           0.575085          0.518510\n",
      "11           0.590506          0.514649\n",
      "12           0.609425          0.514740\n",
      "13           0.628503          0.513128\n",
      "14           0.648353          0.514150\n",
      "15           0.670452          0.510266\n",
      "16           0.694458          0.511924\n",
      "17           0.715058          0.510175\n",
      "18           0.741722          0.509608\n",
      "19           0.765910          0.506814\n",
      "20           0.790824          0.508245\n",
      "21           0.814036          0.507881\n",
      "22           0.836634          0.507041\n",
      "23           0.857665          0.507472\n",
      "24           0.874881          0.503589\n",
      "25           0.892028          0.503793\n",
      "26           0.906859          0.505474\n",
      "27           0.920395          0.505542\n",
      "28           0.933091          0.503316\n",
      "29           0.943925          0.504020\n"
     ]
    }
   ],
   "source": [
    "print single_classif_tree_scores"
   ]
  },
  {
   "cell_type": "code",
   "execution_count": null,
   "metadata": {
    "collapsed": true
   },
   "outputs": [],
   "source": [
    "#LDA / QDA\n",
    "\n",
    "\n",
    "\n",
    "\n",
    "\n",
    "\n",
    "\n"
   ]
  }
 ],
 "metadata": {
  "kernelspec": {
   "display_name": "Python 2",
   "language": "python",
   "name": "python2"
  },
  "language_info": {
   "codemirror_mode": {
    "name": "ipython",
    "version": 2
   },
   "file_extension": ".py",
   "mimetype": "text/x-python",
   "name": "python",
   "nbconvert_exporter": "python",
   "pygments_lexer": "ipython2",
   "version": "2.7.11"
  }
 },
 "nbformat": 4,
 "nbformat_minor": 0
}
